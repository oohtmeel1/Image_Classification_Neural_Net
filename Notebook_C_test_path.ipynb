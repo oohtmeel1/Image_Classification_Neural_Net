{
 "cells": [
  {
   "cell_type": "code",
   "execution_count": 220,
   "metadata": {},
   "outputs": [
    {
     "name": "stdout",
     "output_type": "stream",
     "text": [
      "['.dist', 'base_dir', 'Notebook_A.ipynb', 'Notebook_B.ipynb', 'Notebook_C_test_path.ipynb', 'sample_submission.csv', 'submission.csv', 'test', 'train', 'train_labels.csv']\n"
     ]
    }
   ],
   "source": [
    "from glob import glob \n",
    "import numpy as np\n",
    "import pandas as pd\n",
    "import keras,cv2,os\n",
    "from keras.models import Sequential\n",
    "from keras.layers import Dense, Dropout, Flatten, BatchNormalization, Activation\n",
    "from keras.layers import Conv2D, MaxPool2D\n",
    "from tqdm import tqdm_notebook,trange\n",
    "import matplotlib.pyplot as plt\n",
    "import gc\n",
    "import tensorflow as tf\n",
    "\n",
    "import torch \n",
    "import torch.nn as nn\n",
    "import torch.nn.functional as F\n",
    "import torchvision\n",
    "import torchvision.transforms as transforms\n",
    "from torch.utils.data import TensorDataset, DataLoader, Dataset\n",
    "import torch.optim as optim\n",
    "import shutil\n",
    "print(os.listdir(\"../input\"))"
   ]
  },
  {
   "cell_type": "code",
   "execution_count": 221,
   "metadata": {},
   "outputs": [
    {
     "name": "stdout",
     "output_type": "stream",
     "text": [
      "[]\n",
      "[]\n"
     ]
    }
   ],
   "source": [
    "print(tf.config.list_physical_devices('GPU'))\n",
    "physical_devices = tf.config.experimental.list_physical_devices('GPU')\n",
    "print(physical_devices)\n",
    "if physical_devices:\n",
    "  tf.config.experimental.set_memory_growth(physical_devices[0], True)"
   ]
  },
  {
   "cell_type": "code",
   "execution_count": 222,
   "metadata": {},
   "outputs": [],
   "source": [
    "from tensorflow.python.client import device_lib"
   ]
  },
  {
   "cell_type": "markdown",
   "metadata": {},
   "source": [
    "Configuring Torch"
   ]
  },
  {
   "cell_type": "code",
   "execution_count": 248,
   "metadata": {},
   "outputs": [
    {
     "name": "stdout",
     "output_type": "stream",
     "text": [
      "11.7\n"
     ]
    }
   ],
   "source": [
    "# Device configuration\n",
    "device = torch.device('cuda:0' if torch.cuda.is_available() else 'cpu')\n",
    "device\n",
    "print(torch.version.cuda)\n",
    "torch.cuda.is_available()\n",
    "def get_available_devices():\n",
    "    local_device_protos = device_lib.list_local_devices()\n",
    "    return [x.name for x in local_device_protos]\n",
    "\n"
   ]
  },
  {
   "cell_type": "markdown",
   "metadata": {},
   "source": [
    "Over the last few decades Machine learning has proven to be incredibly useful for medical imaging analysis due to its ability to handle large amounts of data, identify patterns, and assist medical professionals in making more accurate diagnoses and treatment decisions.\n",
    "A Machine learning model will not tire like a person will and can reduce human error, increase the rates of early detections of diseases and do so in an accurate and precise way that even the most skilled person may struggle with.\n",
    "To help further the process along (albeit for free), a competition was held to determine if an algorithm could be developed to identify metastatic cancer in image patches as small as 1 pixel.\n"
   ]
  },
  {
   "cell_type": "markdown",
   "metadata": {},
   "source": [
    "About the dataset:\n",
    "\n",
    "\n",
    "The dataset itself consists of two sets of images. One set consisting of over 200,000 images, each labeled with a 1 or a 0, depending upon the diagnosis. The other set is about 57,000 unlabelled images. Which will be used to test the accuracy of the model that will be constructed during the course of this project. There is also a file for the labels of the data set. The accuracy of the model will be gauged by submitting the results to the Kaggle platform for scoring.\n"
   ]
  },
  {
   "cell_type": "markdown",
   "metadata": {},
   "source": [
    "# Setting up pathing \n",
    "\n",
    "Procedure: Data Loading\n",
    "The datasets were first loaded in using the standard read_csv function. The contents are the identifications and labels for each training data set.\n"
   ]
  },
  {
   "cell_type": "code",
   "execution_count": 249,
   "metadata": {},
   "outputs": [],
   "source": [
    "path = \"../input/\" \n",
    "train_path = path + 'train/'\n",
    "test_path = path + 'test/'"
   ]
  },
  {
   "cell_type": "markdown",
   "metadata": {},
   "source": [
    "To streamline the process a base directory was created for training sample data and test sample data. "
   ]
  },
  {
   "cell_type": "code",
   "execution_count": 250,
   "metadata": {},
   "outputs": [],
   "source": [
    "df = pd.DataFrame({'path': glob(os.path.join(train_path,'*.tif'))}) "
   ]
  },
  {
   "cell_type": "code",
   "execution_count": 251,
   "metadata": {},
   "outputs": [],
   "source": [
    "df['id'] = df.path.map(lambda x: x.split('\\\\')[1].split(\".\")[0]) "
   ]
  },
  {
   "cell_type": "code",
   "execution_count": 252,
   "metadata": {},
   "outputs": [
    {
     "data": {
      "text/html": [
       "<div>\n",
       "<style scoped>\n",
       "    .dataframe tbody tr th:only-of-type {\n",
       "        vertical-align: middle;\n",
       "    }\n",
       "\n",
       "    .dataframe tbody tr th {\n",
       "        vertical-align: top;\n",
       "    }\n",
       "\n",
       "    .dataframe thead th {\n",
       "        text-align: right;\n",
       "    }\n",
       "</style>\n",
       "<table border=\"1\" class=\"dataframe\">\n",
       "  <thead>\n",
       "    <tr style=\"text-align: right;\">\n",
       "      <th></th>\n",
       "      <th>path</th>\n",
       "      <th>id</th>\n",
       "    </tr>\n",
       "  </thead>\n",
       "  <tbody>\n",
       "    <tr>\n",
       "      <th>0</th>\n",
       "      <td>../input/train\\00001b2b5609af42ab0ab276dd4cd41...</td>\n",
       "      <td>00001b2b5609af42ab0ab276dd4cd41c3e7745b5</td>\n",
       "    </tr>\n",
       "    <tr>\n",
       "      <th>1</th>\n",
       "      <td>../input/train\\000020de2aa6193f4c160e398a8edea...</td>\n",
       "      <td>000020de2aa6193f4c160e398a8edea95b1da598</td>\n",
       "    </tr>\n",
       "    <tr>\n",
       "      <th>2</th>\n",
       "      <td>../input/train\\00004aab08381d25d315384d646f5ce...</td>\n",
       "      <td>00004aab08381d25d315384d646f5ce413ea24b1</td>\n",
       "    </tr>\n",
       "    <tr>\n",
       "      <th>3</th>\n",
       "      <td>../input/train\\0000d563d5cfafc4e68acb7c9829258...</td>\n",
       "      <td>0000d563d5cfafc4e68acb7c9829258a298d9b6a</td>\n",
       "    </tr>\n",
       "    <tr>\n",
       "      <th>4</th>\n",
       "      <td>../input/train\\0000da768d06b879e5754c43e2298ce...</td>\n",
       "      <td>0000da768d06b879e5754c43e2298ce48726f722</td>\n",
       "    </tr>\n",
       "    <tr>\n",
       "      <th>...</th>\n",
       "      <td>...</td>\n",
       "      <td>...</td>\n",
       "    </tr>\n",
       "    <tr>\n",
       "      <th>220020</th>\n",
       "      <td>../input/train\\fffe6c73afcf5f5da5818fb70cb7230...</td>\n",
       "      <td>fffe6c73afcf5f5da5818fb70cb723026b172eca</td>\n",
       "    </tr>\n",
       "    <tr>\n",
       "      <th>220021</th>\n",
       "      <td>../input/train\\fffeb3f5361ea57e728fb689e6be34d...</td>\n",
       "      <td>fffeb3f5361ea57e728fb689e6be34d07d16ca7e</td>\n",
       "    </tr>\n",
       "    <tr>\n",
       "      <th>220022</th>\n",
       "      <td>../input/train\\fffeca85b16452a7709d163e05a70e6...</td>\n",
       "      <td>fffeca85b16452a7709d163e05a70e646782b3cc</td>\n",
       "    </tr>\n",
       "    <tr>\n",
       "      <th>220023</th>\n",
       "      <td>../input/train\\fffeeb1297fd4e26f247af648a2a6f9...</td>\n",
       "      <td>fffeeb1297fd4e26f247af648a2a6f942dfa2e9d</td>\n",
       "    </tr>\n",
       "    <tr>\n",
       "      <th>220024</th>\n",
       "      <td>../input/train\\ffffe55093358954f38bba4c35b6aa0...</td>\n",
       "      <td>ffffe55093358954f38bba4c35b6aa0ece86177c</td>\n",
       "    </tr>\n",
       "  </tbody>\n",
       "</table>\n",
       "<p>220025 rows × 2 columns</p>\n",
       "</div>"
      ],
      "text/plain": [
       "                                                     path  \\\n",
       "0       ../input/train\\00001b2b5609af42ab0ab276dd4cd41...   \n",
       "1       ../input/train\\000020de2aa6193f4c160e398a8edea...   \n",
       "2       ../input/train\\00004aab08381d25d315384d646f5ce...   \n",
       "3       ../input/train\\0000d563d5cfafc4e68acb7c9829258...   \n",
       "4       ../input/train\\0000da768d06b879e5754c43e2298ce...   \n",
       "...                                                   ...   \n",
       "220020  ../input/train\\fffe6c73afcf5f5da5818fb70cb7230...   \n",
       "220021  ../input/train\\fffeb3f5361ea57e728fb689e6be34d...   \n",
       "220022  ../input/train\\fffeca85b16452a7709d163e05a70e6...   \n",
       "220023  ../input/train\\fffeeb1297fd4e26f247af648a2a6f9...   \n",
       "220024  ../input/train\\ffffe55093358954f38bba4c35b6aa0...   \n",
       "\n",
       "                                              id  \n",
       "0       00001b2b5609af42ab0ab276dd4cd41c3e7745b5  \n",
       "1       000020de2aa6193f4c160e398a8edea95b1da598  \n",
       "2       00004aab08381d25d315384d646f5ce413ea24b1  \n",
       "3       0000d563d5cfafc4e68acb7c9829258a298d9b6a  \n",
       "4       0000da768d06b879e5754c43e2298ce48726f722  \n",
       "...                                          ...  \n",
       "220020  fffe6c73afcf5f5da5818fb70cb723026b172eca  \n",
       "220021  fffeb3f5361ea57e728fb689e6be34d07d16ca7e  \n",
       "220022  fffeca85b16452a7709d163e05a70e646782b3cc  \n",
       "220023  fffeeb1297fd4e26f247af648a2a6f942dfa2e9d  \n",
       "220024  ffffe55093358954f38bba4c35b6aa0ece86177c  \n",
       "\n",
       "[220025 rows x 2 columns]"
      ]
     },
     "execution_count": 252,
     "metadata": {},
     "output_type": "execute_result"
    }
   ],
   "source": [
    "df"
   ]
  },
  {
   "cell_type": "code",
   "execution_count": 253,
   "metadata": {},
   "outputs": [],
   "source": [
    "labels = pd.read_csv((os.path.join(path +\"train_labels.csv/train_labels.csv\")))"
   ]
  },
  {
   "cell_type": "code",
   "execution_count": 254,
   "metadata": {},
   "outputs": [],
   "source": [
    "df_data = df.merge(labels, on = \"id\")"
   ]
  },
  {
   "cell_type": "code",
   "execution_count": 255,
   "metadata": {},
   "outputs": [
    {
     "data": {
      "text/html": [
       "<div>\n",
       "<style scoped>\n",
       "    .dataframe tbody tr th:only-of-type {\n",
       "        vertical-align: middle;\n",
       "    }\n",
       "\n",
       "    .dataframe tbody tr th {\n",
       "        vertical-align: top;\n",
       "    }\n",
       "\n",
       "    .dataframe thead th {\n",
       "        text-align: right;\n",
       "    }\n",
       "</style>\n",
       "<table border=\"1\" class=\"dataframe\">\n",
       "  <thead>\n",
       "    <tr style=\"text-align: right;\">\n",
       "      <th></th>\n",
       "      <th>path</th>\n",
       "      <th>id</th>\n",
       "      <th>label</th>\n",
       "    </tr>\n",
       "  </thead>\n",
       "  <tbody>\n",
       "    <tr>\n",
       "      <th>0</th>\n",
       "      <td>../input/train\\00001b2b5609af42ab0ab276dd4cd41...</td>\n",
       "      <td>00001b2b5609af42ab0ab276dd4cd41c3e7745b5</td>\n",
       "      <td>1</td>\n",
       "    </tr>\n",
       "    <tr>\n",
       "      <th>1</th>\n",
       "      <td>../input/train\\000020de2aa6193f4c160e398a8edea...</td>\n",
       "      <td>000020de2aa6193f4c160e398a8edea95b1da598</td>\n",
       "      <td>0</td>\n",
       "    </tr>\n",
       "    <tr>\n",
       "      <th>2</th>\n",
       "      <td>../input/train\\00004aab08381d25d315384d646f5ce...</td>\n",
       "      <td>00004aab08381d25d315384d646f5ce413ea24b1</td>\n",
       "      <td>0</td>\n",
       "    </tr>\n",
       "    <tr>\n",
       "      <th>3</th>\n",
       "      <td>../input/train\\0000d563d5cfafc4e68acb7c9829258...</td>\n",
       "      <td>0000d563d5cfafc4e68acb7c9829258a298d9b6a</td>\n",
       "      <td>0</td>\n",
       "    </tr>\n",
       "    <tr>\n",
       "      <th>4</th>\n",
       "      <td>../input/train\\0000da768d06b879e5754c43e2298ce...</td>\n",
       "      <td>0000da768d06b879e5754c43e2298ce48726f722</td>\n",
       "      <td>1</td>\n",
       "    </tr>\n",
       "    <tr>\n",
       "      <th>...</th>\n",
       "      <td>...</td>\n",
       "      <td>...</td>\n",
       "      <td>...</td>\n",
       "    </tr>\n",
       "    <tr>\n",
       "      <th>220020</th>\n",
       "      <td>../input/train\\fffe6c73afcf5f5da5818fb70cb7230...</td>\n",
       "      <td>fffe6c73afcf5f5da5818fb70cb723026b172eca</td>\n",
       "      <td>0</td>\n",
       "    </tr>\n",
       "    <tr>\n",
       "      <th>220021</th>\n",
       "      <td>../input/train\\fffeb3f5361ea57e728fb689e6be34d...</td>\n",
       "      <td>fffeb3f5361ea57e728fb689e6be34d07d16ca7e</td>\n",
       "      <td>0</td>\n",
       "    </tr>\n",
       "    <tr>\n",
       "      <th>220022</th>\n",
       "      <td>../input/train\\fffeca85b16452a7709d163e05a70e6...</td>\n",
       "      <td>fffeca85b16452a7709d163e05a70e646782b3cc</td>\n",
       "      <td>1</td>\n",
       "    </tr>\n",
       "    <tr>\n",
       "      <th>220023</th>\n",
       "      <td>../input/train\\fffeeb1297fd4e26f247af648a2a6f9...</td>\n",
       "      <td>fffeeb1297fd4e26f247af648a2a6f942dfa2e9d</td>\n",
       "      <td>1</td>\n",
       "    </tr>\n",
       "    <tr>\n",
       "      <th>220024</th>\n",
       "      <td>../input/train\\ffffe55093358954f38bba4c35b6aa0...</td>\n",
       "      <td>ffffe55093358954f38bba4c35b6aa0ece86177c</td>\n",
       "      <td>0</td>\n",
       "    </tr>\n",
       "  </tbody>\n",
       "</table>\n",
       "<p>220025 rows × 3 columns</p>\n",
       "</div>"
      ],
      "text/plain": [
       "                                                     path  \\\n",
       "0       ../input/train\\00001b2b5609af42ab0ab276dd4cd41...   \n",
       "1       ../input/train\\000020de2aa6193f4c160e398a8edea...   \n",
       "2       ../input/train\\00004aab08381d25d315384d646f5ce...   \n",
       "3       ../input/train\\0000d563d5cfafc4e68acb7c9829258...   \n",
       "4       ../input/train\\0000da768d06b879e5754c43e2298ce...   \n",
       "...                                                   ...   \n",
       "220020  ../input/train\\fffe6c73afcf5f5da5818fb70cb7230...   \n",
       "220021  ../input/train\\fffeb3f5361ea57e728fb689e6be34d...   \n",
       "220022  ../input/train\\fffeca85b16452a7709d163e05a70e6...   \n",
       "220023  ../input/train\\fffeeb1297fd4e26f247af648a2a6f9...   \n",
       "220024  ../input/train\\ffffe55093358954f38bba4c35b6aa0...   \n",
       "\n",
       "                                              id  label  \n",
       "0       00001b2b5609af42ab0ab276dd4cd41c3e7745b5      1  \n",
       "1       000020de2aa6193f4c160e398a8edea95b1da598      0  \n",
       "2       00004aab08381d25d315384d646f5ce413ea24b1      0  \n",
       "3       0000d563d5cfafc4e68acb7c9829258a298d9b6a      0  \n",
       "4       0000da768d06b879e5754c43e2298ce48726f722      1  \n",
       "...                                          ...    ...  \n",
       "220020  fffe6c73afcf5f5da5818fb70cb723026b172eca      0  \n",
       "220021  fffeb3f5361ea57e728fb689e6be34d07d16ca7e      0  \n",
       "220022  fffeca85b16452a7709d163e05a70e646782b3cc      1  \n",
       "220023  fffeeb1297fd4e26f247af648a2a6f942dfa2e9d      1  \n",
       "220024  ffffe55093358954f38bba4c35b6aa0ece86177c      0  \n",
       "\n",
       "[220025 rows x 3 columns]"
      ]
     },
     "execution_count": 255,
     "metadata": {},
     "output_type": "execute_result"
    }
   ],
   "source": [
    "df_data"
   ]
  },
  {
   "cell_type": "code",
   "execution_count": 256,
   "metadata": {},
   "outputs": [],
   "source": [
    "from sklearn.utils import shuffle\n",
    "from sklearn.model_selection import train_test_split\n",
    "from keras.utils import to_categorical"
   ]
  },
  {
   "cell_type": "markdown",
   "metadata": {},
   "source": [
    "## Specifying sample sizes\n",
    "\n",
    "Model Building and tuning:\n",
    "\n",
    "\n",
    "\n",
    "Since the class mode is binary, a sequential model is appropriate. \n",
    "\n",
    "Learning rate: Learning rate is dynamic, with the implementation of ReduceLRonplateu function. It can adapt to be faster or slower.\n",
    "\n",
    "The Optimizer I am using is Adam. \n",
    "\n",
    "The dropout rate is 0.3, and 0.5 respectively.\n",
    "The loss function is binary crossentropy.\n",
    "\n",
    "\n",
    "\n",
    "So far my basic model architecture is:\n",
    "And their descriptions are below\n",
    "\n",
    "\n",
    "\n",
    "Conv2D :  Convolutes the matrix, reshaping it. Each layer receives only a small portion of the outputs of the previous layer.\n",
    "\n",
    "MaxPool2D: Pools together all of the previous outputs.*\n",
    "\n",
    "Normalization: Transforms the output, maintaining the mean output close to 0 and the standard deviation close to 1. *\n",
    "\n",
    "Activation Function:A function that is applied to the model. \n",
    "\n",
    "Flatten: Flattens the data input.\n",
    "\n",
    "Dense: Merges all of the inputs together. \n",
    "\n"
   ]
  },
  {
   "cell_type": "code",
   "execution_count": 257,
   "metadata": {},
   "outputs": [],
   "source": [
    "sample_size = 20000\n",
    "\n",
    "# Randomly sampling\n",
    "df0 = df_data[df_data['label'] == 0].sample(sample_size, random_state = 101)\n",
    "# Sampling for class 1\n",
    "df1 = df_data[df_data['label'] == 1].sample(sample_size, random_state = 101)\n",
    "\n",
    "#Concat\n",
    "df_data = shuffle(pd.concat([df0, df1], axis=0).reset_index(drop=True))\n",
    "\n",
    "y = df_data['label']\n",
    "df_train, df_val = train_test_split(df_data, test_size=0.20, random_state=60, stratify=y)\n",
    "\n",
    "# Create directories\n",
    "train_path = 'base_dir/train'\n",
    "valid_path = 'base_dir/valid'\n",
    "test_path = '../input/test'\n",
    "for fold in [train_path, valid_path]:\n",
    "    for subf in [\"0\", \"1\"]:\n",
    "        os.makedirs(os.path.join(fold, subf))"
   ]
  },
  {
   "cell_type": "code",
   "execution_count": 258,
   "metadata": {},
   "outputs": [
    {
     "data": {
      "text/plain": [
       "'base_dir/train'"
      ]
     },
     "execution_count": 258,
     "metadata": {},
     "output_type": "execute_result"
    }
   ],
   "source": [
    "train_path"
   ]
  },
  {
   "cell_type": "code",
   "execution_count": 259,
   "metadata": {},
   "outputs": [
    {
     "data": {
      "text/html": [
       "<div>\n",
       "<style scoped>\n",
       "    .dataframe tbody tr th:only-of-type {\n",
       "        vertical-align: middle;\n",
       "    }\n",
       "\n",
       "    .dataframe tbody tr th {\n",
       "        vertical-align: top;\n",
       "    }\n",
       "\n",
       "    .dataframe thead th {\n",
       "        text-align: right;\n",
       "    }\n",
       "</style>\n",
       "<table border=\"1\" class=\"dataframe\">\n",
       "  <thead>\n",
       "    <tr style=\"text-align: right;\">\n",
       "      <th></th>\n",
       "      <th>path</th>\n",
       "      <th>label</th>\n",
       "    </tr>\n",
       "    <tr>\n",
       "      <th>id</th>\n",
       "      <th></th>\n",
       "      <th></th>\n",
       "    </tr>\n",
       "  </thead>\n",
       "  <tbody>\n",
       "    <tr>\n",
       "      <th>144b4a60fdec10866a73fe046f8bc96bcf7baf38</th>\n",
       "      <td>../input/train\\144b4a60fdec10866a73fe046f8bc96...</td>\n",
       "      <td>1</td>\n",
       "    </tr>\n",
       "    <tr>\n",
       "      <th>32ded7ee487df3d7794874a27c99496530fd23ce</th>\n",
       "      <td>../input/train\\32ded7ee487df3d7794874a27c99496...</td>\n",
       "      <td>0</td>\n",
       "    </tr>\n",
       "    <tr>\n",
       "      <th>9a2c559e4576f0ea21e3e4d63183f879c3033803</th>\n",
       "      <td>../input/train\\9a2c559e4576f0ea21e3e4d63183f87...</td>\n",
       "      <td>1</td>\n",
       "    </tr>\n",
       "    <tr>\n",
       "      <th>c31e1ff9a10deb24c488a115052200f6c888da4d</th>\n",
       "      <td>../input/train\\c31e1ff9a10deb24c488a115052200f...</td>\n",
       "      <td>0</td>\n",
       "    </tr>\n",
       "    <tr>\n",
       "      <th>2c297163101df18307388e4f56b13a10179adb2d</th>\n",
       "      <td>../input/train\\2c297163101df18307388e4f56b13a1...</td>\n",
       "      <td>0</td>\n",
       "    </tr>\n",
       "  </tbody>\n",
       "</table>\n",
       "</div>"
      ],
      "text/plain": [
       "                                                                                       path  \\\n",
       "id                                                                                            \n",
       "144b4a60fdec10866a73fe046f8bc96bcf7baf38  ../input/train\\144b4a60fdec10866a73fe046f8bc96...   \n",
       "32ded7ee487df3d7794874a27c99496530fd23ce  ../input/train\\32ded7ee487df3d7794874a27c99496...   \n",
       "9a2c559e4576f0ea21e3e4d63183f879c3033803  ../input/train\\9a2c559e4576f0ea21e3e4d63183f87...   \n",
       "c31e1ff9a10deb24c488a115052200f6c888da4d  ../input/train\\c31e1ff9a10deb24c488a115052200f...   \n",
       "2c297163101df18307388e4f56b13a10179adb2d  ../input/train\\2c297163101df18307388e4f56b13a1...   \n",
       "\n",
       "                                          label  \n",
       "id                                               \n",
       "144b4a60fdec10866a73fe046f8bc96bcf7baf38      1  \n",
       "32ded7ee487df3d7794874a27c99496530fd23ce      0  \n",
       "9a2c559e4576f0ea21e3e4d63183f879c3033803      1  \n",
       "c31e1ff9a10deb24c488a115052200f6c888da4d      0  \n",
       "2c297163101df18307388e4f56b13a10179adb2d      0  "
      ]
     },
     "execution_count": 259,
     "metadata": {},
     "output_type": "execute_result"
    }
   ],
   "source": [
    "df_data.set_index('id', inplace=True)\n",
    "df_data.head()\n",
    "\n"
   ]
  },
  {
   "cell_type": "code",
   "execution_count": 260,
   "metadata": {},
   "outputs": [],
   "source": [
    "test_df = pd.DataFrame({'id':os.listdir(test_path)})\n",
    "test_path = path + 'test/'"
   ]
  },
  {
   "cell_type": "code",
   "execution_count": 261,
   "metadata": {},
   "outputs": [],
   "source": [
    "for image in test_df['id'].values:\n",
    "    # Adding the tif here\n",
    "    fname = image + '.tif'"
   ]
  },
  {
   "cell_type": "markdown",
   "metadata": {},
   "source": [
    "The below file stores files in the directory. "
   ]
  },
  {
   "cell_type": "code",
   "execution_count": 262,
   "metadata": {},
   "outputs": [],
   "source": [
    "for image in df_train['id'].values:\n",
    "    # Adding the tif here\n",
    "    fname = image + '.tif'\n",
    "    label = str(df_data.loc[image,'label']) \n",
    "    ab = os.path.join('../input/train', fname)\n",
    "    cd = os.path.join(train_path, label, fname)\n",
    "    shutil.copyfile(ab, cd)\n",
    "\n",
    "for image in df_val['id'].values:\n",
    "    fname = image + '.tif'\n",
    "    label = str(df_data.loc[image,'label'])\n",
    "    ab = os.path.join('../input/train', fname)\n",
    "    cd = os.path.join(valid_path, label, fname)\n",
    "    shutil.copyfile(ab, cd)"
   ]
  },
  {
   "cell_type": "markdown",
   "metadata": {},
   "source": [
    "# Preprocessing"
   ]
  },
  {
   "cell_type": "code",
   "execution_count": 263,
   "metadata": {},
   "outputs": [
    {
     "name": "stdout",
     "output_type": "stream",
     "text": [
      "Found 32000 images belonging to 2 classes.\n",
      "Found 8000 images belonging to 2 classes.\n",
      "Found 8000 images belonging to 2 classes.\n"
     ]
    }
   ],
   "source": [
    "from keras.preprocessing.image import ImageDataGenerator\n",
    "\n",
    "imagesize = 96\n",
    "train_samples_num = len(df_train)\n",
    "val_samples_num = len(df_val)\n",
    "train_batch_size = 32\n",
    "val_batch_size = 32\n",
    "\n",
    "train_steps = np.ceil(train_samples_num / train_batch_size)\n",
    "val_steps = np.ceil(val_samples_num / val_batch_size)\n",
    "\n",
    "datagen = ImageDataGenerator(preprocessing_function=lambda x:(x - x.mean()) / x.std() if x.std() > 0 else x,\n",
    "                            horizontal_flip=True,\n",
    "                            vertical_flip=True)\n",
    "\n",
    "train_gen = datagen.flow_from_directory(train_path,\n",
    "                                        target_size=(imagesize,imagesize),\n",
    "                                        batch_size=train_batch_size,\n",
    "                                        class_mode='binary')\n",
    "\n",
    "val_gen = datagen.flow_from_directory(valid_path,\n",
    "                                        target_size=(imagesize,imagesize),\n",
    "                                        batch_size=val_batch_size,\n",
    "                                        class_mode='binary')\n",
    "\n",
    "\n",
    "test_gen = datagen.flow_from_directory(valid_path,\n",
    "                                        target_size=(imagesize,imagesize),\n",
    "                                        batch_size=1,\n",
    "                                        class_mode='binary',\n",
    "                                        shuffle=False)"
   ]
  },
  {
   "cell_type": "markdown",
   "metadata": {},
   "source": [
    "## Model functionality ensured, and Epoch increased to 5\n",
    "Model run stopped early\n",
    "\n",
    "I think resizing the model first will be most advantageous, and it might save on processing time. Then that should be followed by pooling all of the data together.And only after a few repetitions of this is the data normalized, and model dropout is performed. Lastly the density function is applied. "
   ]
  },
  {
   "cell_type": "code",
   "execution_count": 37,
   "metadata": {},
   "outputs": [
    {
     "name": "stdout",
     "output_type": "stream",
     "text": [
      "Model: \"sequential_6\"\n",
      "_________________________________________________________________\n",
      " Layer (type)                Output Shape              Param #   \n",
      "=================================================================\n",
      " conv2d_35 (Conv2D)          (None, 94, 94, 32)        896       \n",
      "                                                                 \n",
      " conv2d_36 (Conv2D)          (None, 92, 92, 32)        9216      \n",
      "                                                                 \n",
      " conv2d_37 (Conv2D)          (None, 90, 90, 32)        9216      \n",
      "                                                                 \n",
      " max_pooling2d_19 (MaxPooli  (None, 45, 45, 32)        0         \n",
      " ng2D)                                                           \n",
      "                                                                 \n",
      " conv2d_38 (Conv2D)          (None, 43, 43, 32)        9216      \n",
      "                                                                 \n",
      " max_pooling2d_20 (MaxPooli  (None, 21, 21, 32)        0         \n",
      " ng2D)                                                           \n",
      "                                                                 \n",
      " conv2d_39 (Conv2D)          (None, 19, 19, 32)        9216      \n",
      "                                                                 \n",
      " max_pooling2d_21 (MaxPooli  (None, 9, 9, 32)          0         \n",
      " ng2D)                                                           \n",
      "                                                                 \n",
      " max_pooling2d_22 (MaxPooli  (None, 4, 4, 32)          0         \n",
      " ng2D)                                                           \n",
      "                                                                 \n",
      " batch_normalization_12 (Ba  (None, 4, 4, 32)          128       \n",
      " tchNormalization)                                               \n",
      "                                                                 \n",
      " activation_12 (Activation)  (None, 4, 4, 32)          0         \n",
      "                                                                 \n",
      " max_pooling2d_23 (MaxPooli  (None, 2, 2, 32)          0         \n",
      " ng2D)                                                           \n",
      "                                                                 \n",
      " dropout_12 (Dropout)        (None, 2, 2, 32)          0         \n",
      "                                                                 \n",
      " flatten_6 (Flatten)         (None, 128)               0         \n",
      "                                                                 \n",
      " dense_12 (Dense)            (None, 256)               32768     \n",
      "                                                                 \n",
      " batch_normalization_13 (Ba  (None, 256)               1024      \n",
      " tchNormalization)                                               \n",
      "                                                                 \n",
      " activation_13 (Activation)  (None, 256)               0         \n",
      "                                                                 \n",
      " dropout_13 (Dropout)        (None, 256)               0         \n",
      "                                                                 \n",
      " dense_13 (Dense)            (None, 1)                 257       \n",
      "                                                                 \n",
      "=================================================================\n",
      "Total params: 71937 (281.00 KB)\n",
      "Trainable params: 71361 (278.75 KB)\n",
      "Non-trainable params: 576 (2.25 KB)\n",
      "_________________________________________________________________\n",
      "None\n"
     ]
    }
   ],
   "source": [
    "from keras.models import Sequential\n",
    "from keras.layers import Dense, Dropout, Flatten, BatchNormalization, Activation\n",
    "from keras.layers import Conv2D, MaxPool2D\n",
    "from keras.optimizers import RMSprop, Adam\n",
    "\n",
    "kernel_size = (3,3) \n",
    "pool_size= (2,2)\n",
    "first_filter = 32\n",
    "second_filter = 64\n",
    "third_filter = 128\n",
    "\n",
    "dropout_conv = 0.3\n",
    "dropout_dense = 0.5\n",
    "\n",
    "model = Sequential()\n",
    "model.add(Conv2D(first_filter, kernel_size, activation = 'relu', input_shape = (imagesize, imagesize, 3)))\n",
    "model.add(Conv2D(first_filter, kernel_size, use_bias=False))\n",
    "model.add(Conv2D(first_filter, kernel_size, use_bias=False))\n",
    "model.add(MaxPool2D(pool_size = pool_size)) \n",
    "model.add(Conv2D(first_filter, kernel_size, use_bias=False))\n",
    "model.add(MaxPool2D(pool_size = pool_size)) \n",
    "model.add(Conv2D(first_filter, kernel_size, use_bias=False))\n",
    "model.add(MaxPool2D(pool_size = pool_size)) \n",
    "model.add(MaxPool2D(pool_size = pool_size)) \n",
    "model.add(BatchNormalization())\n",
    "model.add(Activation(\"relu\"))\n",
    "model.add(MaxPool2D(pool_size = pool_size)) \n",
    "model.add(Dropout(dropout_conv))\n",
    "model.add(Flatten())\n",
    "model.add(Dense(256, use_bias=False))\n",
    "model.add(BatchNormalization())\n",
    "model.add(Activation(\"relu\"))\n",
    "model.add(Dropout(dropout_dense))\n",
    "model.add(Dense(1, activation = \"sigmoid\"))\n",
    "model.compile(Adam(0.01), loss = \"binary_crossentropy\", metrics=[\"accuracy\"])\n",
    "print(model.summary())"
   ]
  },
  {
   "cell_type": "code",
   "execution_count": null,
   "metadata": {},
   "outputs": [],
   "source": [
    "from keras.callbacks import EarlyStopping, ReduceLROnPlateau\n",
    "earlystopper = EarlyStopping(monitor='val_loss', patience=1, verbose=1, restore_best_weights=True)\n",
    "reducel = ReduceLROnPlateau(monitor='val_loss', patience=1, verbose=1, factor=0.1)\n",
    "model_1 = model.fit_generator(train_gen, steps_per_epoch=train_steps, \n",
    "                    validation_data=val_gen,\n",
    "                    validation_steps=val_steps,\n",
    "                    epochs=1,\n",
    "                    callbacks=[reducel, earlystopper])"
   ]
  },
  {
   "cell_type": "code",
   "execution_count": null,
   "metadata": {},
   "outputs": [],
   "source": [
    "model.summary()"
   ]
  },
  {
   "cell_type": "code",
   "execution_count": 46,
   "metadata": {},
   "outputs": [
    {
     "name": "stdout",
     "output_type": "stream",
     "text": [
      "Epoch 1/5\n"
     ]
    },
    {
     "name": "stderr",
     "output_type": "stream",
     "text": [
      "C:\\Users\\amcfa\\AppData\\Local\\Temp\\ipykernel_17948\\1274770300.py:4: UserWarning: `Model.fit_generator` is deprecated and will be removed in a future version. Please use `Model.fit`, which supports generators.\n",
      "  model_5 = model.fit_generator(train_gen, steps_per_epoch=train_steps,\n"
     ]
    },
    {
     "name": "stdout",
     "output_type": "stream",
     "text": [
      "563/563 [==============================] - 107s 190ms/step - loss: 0.4871 - accuracy: 0.7730 - val_loss: 0.6806 - val_accuracy: 0.6955 - lr: 0.0100\n",
      "Epoch 2/5\n",
      "563/563 [==============================] - 108s 192ms/step - loss: 0.4699 - accuracy: 0.7825 - val_loss: 0.4466 - val_accuracy: 0.8005 - lr: 0.0100\n",
      "Epoch 3/5\n",
      "563/563 [==============================] - ETA: 0s - loss: 0.4578 - accuracy: 0.7864\n",
      "Epoch 3: ReduceLROnPlateau reducing learning rate to 0.0009999999776482583.\n",
      "Restoring model weights from the end of the best epoch: 2.\n",
      "563/563 [==============================] - 116s 207ms/step - loss: 0.4578 - accuracy: 0.7864 - val_loss: 1.1674 - val_accuracy: 0.5645 - lr: 0.0100\n",
      "Epoch 3: early stopping\n"
     ]
    }
   ],
   "source": [
    "from keras.callbacks import EarlyStopping, ReduceLROnPlateau\n",
    "earlystopper = EarlyStopping(monitor='val_loss', patience=1, verbose=1, restore_best_weights=True)\n",
    "reducel = ReduceLROnPlateau(monitor='val_loss', patience=1, verbose=1, factor=0.1)\n",
    "model_5 = model.fit_generator(train_gen, steps_per_epoch=train_steps, \n",
    "                    validation_data=val_gen,\n",
    "                    validation_steps=val_steps,\n",
    "                    epochs=5,\n",
    "                    callbacks=[reducel, earlystopper])"
   ]
  },
  {
   "cell_type": "code",
   "execution_count": 52,
   "metadata": {},
   "outputs": [
    {
     "data": {
      "image/png": "[encoded data removed]",
      "text/plain": [
       "<Figure size 640x480 with 1 Axes>"
      ]
     },
     "metadata": {},
     "output_type": "display_data"
    }
   ],
   "source": [
    "plt.plot(model_5.history['loss'],'m')\n",
    "plt.plot(model_5.history['accuracy'],'c')\n",
    "plt.title('Model One Accuracy per Epoch')\n",
    "plt.xlabel('Epoch #')\n",
    "plt.ylabel('Metric')\n",
    "plt.legend(['train_loss', 'train_accuracy'], loc='upper left')\n",
    "plt.show()"
   ]
  },
  {
   "cell_type": "code",
   "execution_count": 50,
   "metadata": {},
   "outputs": [
    {
     "data": {
      "image/png": "[encoded data removed]",
      "text/plain": [
       "<Figure size 640x480 with 1 Axes>"
      ]
     },
     "metadata": {},
     "output_type": "display_data"
    }
   ],
   "source": [
    "plt.plot(model_5.history['val_loss'])\n",
    "plt.plot(model_5.history['val_accuracy'])\n",
    "plt.title('Model One Accuracy per Epoch')\n",
    "plt.xlabel('Epoch #')\n",
    "plt.ylabel('Accuracy')\n",
    "plt.legend(['val_loss', 'val_accuracy'], loc='upper left')\n",
    "plt.show()"
   ]
  },
  {
   "cell_type": "code",
   "execution_count": 51,
   "metadata": {},
   "outputs": [
    {
     "name": "stdout",
     "output_type": "stream",
     "text": [
      "Epoch 1/15\n"
     ]
    },
    {
     "name": "stderr",
     "output_type": "stream",
     "text": [
      "C:\\Users\\amcfa\\AppData\\Local\\Temp\\ipykernel_17948\\831807310.py:4: UserWarning: `Model.fit_generator` is deprecated and will be removed in a future version. Please use `Model.fit`, which supports generators.\n",
      "  model_6 = model.fit_generator(train_gen, steps_per_epoch=train_steps,\n"
     ]
    },
    {
     "name": "stdout",
     "output_type": "stream",
     "text": [
      "563/563 [==============================] - 114s 203ms/step - loss: 0.4395 - accuracy: 0.8005 - val_loss: 0.4360 - val_accuracy: 0.7895 - lr: 1.0000e-03\n",
      "Epoch 2/15\n",
      "563/563 [==============================] - ETA: 0s - loss: 0.4257 - accuracy: 0.8067\n",
      "Epoch 2: ReduceLROnPlateau reducing learning rate to 9.999999310821295e-05.\n",
      "Restoring model weights from the end of the best epoch: 1.\n",
      "563/563 [==============================] - 113s 200ms/step - loss: 0.4257 - accuracy: 0.8067 - val_loss: 0.5063 - val_accuracy: 0.7585 - lr: 1.0000e-03\n",
      "Epoch 2: early stopping\n"
     ]
    }
   ],
   "source": [
    "from keras.callbacks import EarlyStopping, ReduceLROnPlateau\n",
    "earlystopper = EarlyStopping(monitor='val_loss', patience=1, verbose=1, restore_best_weights=True)\n",
    "reducel = ReduceLROnPlateau(monitor='val_loss', patience=1, verbose=1, factor=0.1)\n",
    "model_6 = model.fit_generator(train_gen, steps_per_epoch=train_steps, \n",
    "                    validation_data=val_gen,\n",
    "                    validation_steps=val_steps,\n",
    "                    epochs=15,\n",
    "                    callbacks=[reducel, earlystopper])"
   ]
  },
  {
   "cell_type": "code",
   "execution_count": 53,
   "metadata": {},
   "outputs": [
    {
     "data": {
      "image/png": "[encoded data removed]",
      "text/plain": [
       "<Figure size 640x480 with 1 Axes>"
      ]
     },
     "metadata": {},
     "output_type": "display_data"
    }
   ],
   "source": [
    "plt.plot(model_6.history['loss'],'m')\n",
    "plt.plot(model_6.history['accuracy'],'c')\n",
    "plt.title('Model One Accuracy per Epoch')\n",
    "plt.xlabel('Epoch #')\n",
    "plt.ylabel('Accuracy')\n",
    "plt.legend(['train_loss', 'train_accuracy'], loc='upper left')\n",
    "plt.show()"
   ]
  },
  {
   "cell_type": "markdown",
   "metadata": {},
   "source": [
    "# Simplest change:\n",
    "Size of the batch changed. But no effects at all\n",
    "\n",
    "The most straightforward change to be made was to increase the batch size before adding or removing parameters. The new batch size chosen was 64, since the original batch size was 32. \n",
    "The result was more or less the same. Any changes will involve other parameters.\n"
   ]
  },
  {
   "cell_type": "code",
   "execution_count": 54,
   "metadata": {},
   "outputs": [
    {
     "name": "stdout",
     "output_type": "stream",
     "text": [
      "Found 18000 images belonging to 2 classes.\n",
      "Found 2000 images belonging to 2 classes.\n",
      "Found 2000 images belonging to 2 classes.\n"
     ]
    }
   ],
   "source": [
    "from keras.preprocessing.image import ImageDataGenerator\n",
    "\n",
    "imagesize = 96\n",
    "train_samples_num = len(df_train)\n",
    "val_samples_num = len(df_val)\n",
    "train_batch_size = 64\n",
    "val_batch_size = 64\n",
    "\n",
    "train_steps = np.ceil(train_samples_num / train_batch_size)\n",
    "val_steps = np.ceil(val_samples_num / val_batch_size)\n",
    "\n",
    "datagen = ImageDataGenerator(preprocessing_function=lambda x:(x - x.mean()) / x.std() if x.std() > 0 else x,\n",
    "                            horizontal_flip=True,\n",
    "                            vertical_flip=True)\n",
    "\n",
    "train_gen = datagen.flow_from_directory(train_path,\n",
    "                                        target_size=(imagesize,imagesize),\n",
    "                                        batch_size=train_batch_size,\n",
    "                                        class_mode='binary')\n",
    "\n",
    "val_gen = datagen.flow_from_directory(valid_path,\n",
    "                                        target_size=(imagesize,imagesize),\n",
    "                                        batch_size=val_batch_size,\n",
    "                                        class_mode='binary')\n",
    "\n",
    "\n",
    "test_gen = datagen.flow_from_directory(valid_path,\n",
    "                                        target_size=(imagesize,imagesize),\n",
    "                                        batch_size=1,\n",
    "                                        class_mode='binary',\n",
    "                                        shuffle=False)"
   ]
  },
  {
   "cell_type": "code",
   "execution_count": 55,
   "metadata": {},
   "outputs": [
    {
     "name": "stdout",
     "output_type": "stream",
     "text": [
      "Model: \"sequential_7\"\n",
      "_________________________________________________________________\n",
      " Layer (type)                Output Shape              Param #   \n",
      "=================================================================\n",
      " conv2d_40 (Conv2D)          (None, 94, 94, 32)        896       \n",
      "                                                                 \n",
      " conv2d_41 (Conv2D)          (None, 92, 92, 32)        9216      \n",
      "                                                                 \n",
      " conv2d_42 (Conv2D)          (None, 90, 90, 32)        9216      \n",
      "                                                                 \n",
      " max_pooling2d_24 (MaxPooli  (None, 45, 45, 32)        0         \n",
      " ng2D)                                                           \n",
      "                                                                 \n",
      " conv2d_43 (Conv2D)          (None, 43, 43, 32)        9216      \n",
      "                                                                 \n",
      " max_pooling2d_25 (MaxPooli  (None, 21, 21, 32)        0         \n",
      " ng2D)                                                           \n",
      "                                                                 \n",
      " conv2d_44 (Conv2D)          (None, 19, 19, 32)        9216      \n",
      "                                                                 \n",
      " max_pooling2d_26 (MaxPooli  (None, 9, 9, 32)          0         \n",
      " ng2D)                                                           \n",
      "                                                                 \n",
      " max_pooling2d_27 (MaxPooli  (None, 4, 4, 32)          0         \n",
      " ng2D)                                                           \n",
      "                                                                 \n",
      " batch_normalization_14 (Ba  (None, 4, 4, 32)          128       \n",
      " tchNormalization)                                               \n",
      "                                                                 \n",
      " activation_14 (Activation)  (None, 4, 4, 32)          0         \n",
      "                                                                 \n",
      " max_pooling2d_28 (MaxPooli  (None, 2, 2, 32)          0         \n",
      " ng2D)                                                           \n",
      "                                                                 \n",
      " dropout_14 (Dropout)        (None, 2, 2, 32)          0         \n",
      "                                                                 \n",
      " flatten_7 (Flatten)         (None, 128)               0         \n",
      "                                                                 \n",
      " dense_14 (Dense)            (None, 256)               32768     \n",
      "                                                                 \n",
      " batch_normalization_15 (Ba  (None, 256)               1024      \n",
      " tchNormalization)                                               \n",
      "                                                                 \n",
      " activation_15 (Activation)  (None, 256)               0         \n",
      "                                                                 \n",
      " dropout_15 (Dropout)        (None, 256)               0         \n",
      "                                                                 \n",
      " dense_15 (Dense)            (None, 1)                 257       \n",
      "                                                                 \n",
      "=================================================================\n",
      "Total params: 71937 (281.00 KB)\n",
      "Trainable params: 71361 (278.75 KB)\n",
      "Non-trainable params: 576 (2.25 KB)\n",
      "_________________________________________________________________\n",
      "None\n"
     ]
    }
   ],
   "source": [
    "kernel_size = (3,3)\n",
    "pool_size= (2,2)\n",
    "first_filter = 32\n",
    "second_filter = 64\n",
    "third_filter = 128\n",
    "\n",
    "dropout_conv = 0.3\n",
    "dropout_dense = 0.5\n",
    "\n",
    "model3 = Sequential()\n",
    "model3.add(Conv2D(first_filter, kernel_size, activation = 'relu', input_shape = (imagesize, imagesize, 3)))\n",
    "model3.add(Conv2D(first_filter, kernel_size, use_bias=False))\n",
    "model3.add(Conv2D(first_filter, kernel_size, use_bias=False))\n",
    "model3.add(MaxPool2D(pool_size = pool_size)) \n",
    "model3.add(Conv2D(first_filter, kernel_size, use_bias=False))\n",
    "model3.add(MaxPool2D(pool_size = pool_size)) \n",
    "model3.add(Conv2D(first_filter, kernel_size, use_bias=False))\n",
    "model3.add(MaxPool2D(pool_size = pool_size)) \n",
    "model3.add(MaxPool2D(pool_size = pool_size)) \n",
    "\n",
    "model3.add(BatchNormalization())\n",
    "model3.add(Activation(\"relu\"))\n",
    "model3.add(MaxPool2D(pool_size = pool_size)) \n",
    "model3.add(Dropout(dropout_conv))\n",
    "\n",
    "model3.add(Flatten())\n",
    "model3.add(Dense(256, use_bias=False))\n",
    "model3.add(BatchNormalization())\n",
    "model3.add(Activation(\"relu\"))\n",
    "model3.add(Dropout(dropout_dense))\n",
    "model3.add(Dense(1, activation = \"sigmoid\"))\n",
    "\n",
    "\n",
    "model3.compile(Adam(0.01), loss = \"binary_crossentropy\", metrics=[\"accuracy\"])\n",
    "print(model3.summary())"
   ]
  },
  {
   "cell_type": "code",
   "execution_count": 56,
   "metadata": {},
   "outputs": [
    {
     "name": "stdout",
     "output_type": "stream",
     "text": [
      "Epoch 1/5\n"
     ]
    },
    {
     "name": "stderr",
     "output_type": "stream",
     "text": [
      "C:\\Users\\amcfa\\AppData\\Local\\Temp\\ipykernel_17948\\2234244410.py:4: UserWarning: `Model.fit_generator` is deprecated and will be removed in a future version. Please use `Model.fit`, which supports generators.\n",
      "  model_4 = model3.fit_generator(train_gen, steps_per_epoch=train_steps,\n"
     ]
    },
    {
     "name": "stdout",
     "output_type": "stream",
     "text": [
      "282/282 [==============================] - 104s 364ms/step - loss: 0.5402 - accuracy: 0.7436 - val_loss: 1.3442 - val_accuracy: 0.5230 - lr: 0.0100\n",
      "Epoch 2/5\n",
      "282/282 [==============================] - 104s 369ms/step - loss: 0.4633 - accuracy: 0.7853 - val_loss: 0.6427 - val_accuracy: 0.6415 - lr: 0.0100\n",
      "Epoch 3/5\n",
      "282/282 [==============================] - ETA: 0s - loss: 0.4417 - accuracy: 0.7953\n",
      "Epoch 3: ReduceLROnPlateau reducing learning rate to 0.0009999999776482583.\n",
      "Restoring model weights from the end of the best epoch: 2.\n",
      "282/282 [==============================] - 113s 402ms/step - loss: 0.4417 - accuracy: 0.7953 - val_loss: 0.7874 - val_accuracy: 0.6015 - lr: 0.0100\n",
      "Epoch 3: early stopping\n"
     ]
    }
   ],
   "source": [
    "from keras.callbacks import EarlyStopping, ReduceLROnPlateau\n",
    "earlystopper = EarlyStopping(monitor='val_loss', patience=1, verbose=1, restore_best_weights=True)\n",
    "reducel = ReduceLROnPlateau(monitor='val_loss', patience=1, verbose=1, factor=0.1)\n",
    "model_4 = model3.fit_generator(train_gen, steps_per_epoch=train_steps, \n",
    "                    validation_data=val_gen,\n",
    "                    validation_steps=val_steps,\n",
    "                    epochs=5,\n",
    "                   callbacks=[reducel, earlystopper])"
   ]
  },
  {
   "cell_type": "markdown",
   "metadata": {},
   "source": [
    "## Batch Size returned to normal \n",
    "Conculsion for change in batch size:\n",
    "Little to no effect.\n"
   ]
  },
  {
   "cell_type": "code",
   "execution_count": 59,
   "metadata": {},
   "outputs": [
    {
     "name": "stdout",
     "output_type": "stream",
     "text": [
      "Model: \"sequential_9\"\n",
      "_________________________________________________________________\n",
      " Layer (type)                Output Shape              Param #   \n",
      "=================================================================\n",
      " conv2d_46 (Conv2D)          (None, 94, 94, 32)        896       \n",
      "                                                                 \n",
      " max_pooling2d_31 (MaxPooli  (None, 47, 47, 32)        0         \n",
      " ng2D)                                                           \n",
      "                                                                 \n",
      " conv2d_47 (Conv2D)          (None, 45, 45, 32)        9216      \n",
      "                                                                 \n",
      " max_pooling2d_32 (MaxPooli  (None, 22, 22, 32)        0         \n",
      " ng2D)                                                           \n",
      "                                                                 \n",
      " max_pooling2d_33 (MaxPooli  (None, 11, 11, 32)        0         \n",
      " ng2D)                                                           \n",
      "                                                                 \n",
      " max_pooling2d_34 (MaxPooli  (None, 5, 5, 32)          0         \n",
      " ng2D)                                                           \n",
      "                                                                 \n",
      " max_pooling2d_35 (MaxPooli  (None, 2, 2, 32)          0         \n",
      " ng2D)                                                           \n",
      "                                                                 \n",
      " batch_normalization_18 (Ba  (None, 2, 2, 32)          128       \n",
      " tchNormalization)                                               \n",
      "                                                                 \n",
      " activation_18 (Activation)  (None, 2, 2, 32)          0         \n",
      "                                                                 \n",
      " max_pooling2d_36 (MaxPooli  (None, 1, 1, 32)          0         \n",
      " ng2D)                                                           \n",
      "                                                                 \n",
      " dropout_18 (Dropout)        (None, 1, 1, 32)          0         \n",
      "                                                                 \n",
      " flatten_9 (Flatten)         (None, 32)                0         \n",
      "                                                                 \n",
      " dense_18 (Dense)            (None, 256)               8192      \n",
      "                                                                 \n",
      " batch_normalization_19 (Ba  (None, 256)               1024      \n",
      " tchNormalization)                                               \n",
      "                                                                 \n",
      " activation_19 (Activation)  (None, 256)               0         \n",
      "                                                                 \n",
      " dropout_19 (Dropout)        (None, 256)               0         \n",
      "                                                                 \n",
      " dense_19 (Dense)            (None, 1)                 257       \n",
      "                                                                 \n",
      "=================================================================\n",
      "Total params: 19713 (77.00 KB)\n",
      "Trainable params: 19137 (74.75 KB)\n",
      "Non-trainable params: 576 (2.25 KB)\n",
      "_________________________________________________________________\n",
      "None\n"
     ]
    }
   ],
   "source": [
    "kernel_size = (3,3)\n",
    "pool_size= (2,2)\n",
    "first_filter = 32\n",
    "second_filter = 64\n",
    "third_filter = 128\n",
    "\n",
    "dropout_conv = 0.3\n",
    "dropout_dense = 0.5\n",
    "\n",
    "model5 = Sequential()\n",
    "model5.add(Conv2D(first_filter, kernel_size, activation = 'relu', input_shape = (imagesize, imagesize, 3)))\n",
    "model5.add(MaxPool2D(pool_size = pool_size)) \n",
    "model5.add(Conv2D(first_filter, kernel_size, use_bias=False))\n",
    "model5.add(MaxPool2D(pool_size = pool_size)) \n",
    "model5.add(MaxPool2D(pool_size = pool_size)) \n",
    "model5.add(MaxPool2D(pool_size = pool_size)) \n",
    "model5.add(MaxPool2D(pool_size = pool_size)) \n",
    "\n",
    "model5.add(BatchNormalization())\n",
    "model5.add(Activation(\"relu\"))\n",
    "model5.add(MaxPool2D(pool_size = pool_size)) \n",
    "model5.add(Dropout(dropout_conv))\n",
    "\n",
    "model5.add(Flatten())\n",
    "model5.add(Dense(256, use_bias=False))\n",
    "model5.add(BatchNormalization())\n",
    "model5.add(Activation(\"relu\"))\n",
    "model5.add(Dropout(dropout_dense))\n",
    "model5.add(Dense(1, activation = \"sigmoid\"))\n",
    "\n",
    "\n",
    "model5.compile(Adam(0.01), loss = \"binary_crossentropy\", metrics=[\"accuracy\"])\n",
    "print(model5.summary())"
   ]
  },
  {
   "cell_type": "code",
   "execution_count": 60,
   "metadata": {},
   "outputs": [
    {
     "name": "stdout",
     "output_type": "stream",
     "text": [
      "Epoch 1/5\n"
     ]
    },
    {
     "name": "stderr",
     "output_type": "stream",
     "text": [
      "C:\\Users\\amcfa\\AppData\\Local\\Temp\\ipykernel_17948\\2609964104.py:4: UserWarning: `Model.fit_generator` is deprecated and will be removed in a future version. Please use `Model.fit`, which supports generators.\n",
      "  model_6 = model5.fit_generator(train_gen, steps_per_epoch=train_steps,\n"
     ]
    },
    {
     "name": "stdout",
     "output_type": "stream",
     "text": [
      "282/282 [==============================] - 31s 109ms/step - loss: 0.5442 - accuracy: 0.7371 - val_loss: 0.5206 - val_accuracy: 0.7330 - lr: 0.0100\n",
      "Epoch 2/5\n",
      "282/282 [==============================] - ETA: 0s - loss: 0.4858 - accuracy: 0.7709\n",
      "Epoch 2: ReduceLROnPlateau reducing learning rate to 0.0009999999776482583.\n",
      "Restoring model weights from the end of the best epoch: 1.\n",
      "282/282 [==============================] - 31s 110ms/step - loss: 0.4858 - accuracy: 0.7709 - val_loss: 0.5276 - val_accuracy: 0.7180 - lr: 0.0100\n",
      "Epoch 2: early stopping\n"
     ]
    }
   ],
   "source": [
    "from keras.callbacks import EarlyStopping, ReduceLROnPlateau\n",
    "earlystopper = EarlyStopping(monitor='val_loss', patience=1, verbose=1, restore_best_weights=True)\n",
    "reducel = ReduceLROnPlateau(monitor='val_loss', patience=1, verbose=1, factor=0.1)\n",
    "model_6 = model5.fit_generator(train_gen, steps_per_epoch=train_steps, \n",
    "                    validation_data=val_gen,\n",
    "                    validation_steps=val_steps,\n",
    "                    epochs=5,\n",
    "                   callbacks=[reducel, earlystopper])"
   ]
  },
  {
   "cell_type": "markdown",
   "metadata": {},
   "source": [
    "## Just some More experimentation"
   ]
  },
  {
   "cell_type": "code",
   "execution_count": null,
   "metadata": {},
   "outputs": [],
   "source": []
  },
  {
   "cell_type": "code",
   "execution_count": null,
   "metadata": {},
   "outputs": [],
   "source": [
    "plt.plot(model_5.history['accuracy'],'m')\n",
    "plt.plot(model_5.history['val_accuracy'],'c')\n",
    "plt.title('Model two Accuracy per Epoch')\n",
    "plt.xlabel('Epoch #')\n",
    "plt.ylabel('Accuracy')\n",
    "plt.legend(['train', 'validate'], loc='middle')\n",
    "plt.show()"
   ]
  },
  {
   "cell_type": "code",
   "execution_count": 61,
   "metadata": {},
   "outputs": [
    {
     "name": "stdout",
     "output_type": "stream",
     "text": [
      "Model: \"sequential_10\"\n",
      "_________________________________________________________________\n",
      " Layer (type)                Output Shape              Param #   \n",
      "=================================================================\n",
      " conv2d_48 (Conv2D)          (None, 94, 94, 32)        896       \n",
      "                                                                 \n",
      " max_pooling2d_37 (MaxPooli  (None, 47, 47, 32)        0         \n",
      " ng2D)                                                           \n",
      "                                                                 \n",
      " conv2d_49 (Conv2D)          (None, 45, 45, 32)        9216      \n",
      "                                                                 \n",
      " max_pooling2d_38 (MaxPooli  (None, 22, 22, 32)        0         \n",
      " ng2D)                                                           \n",
      "                                                                 \n",
      " conv2d_50 (Conv2D)          (None, 20, 20, 32)        9216      \n",
      "                                                                 \n",
      " max_pooling2d_39 (MaxPooli  (None, 10, 10, 32)        0         \n",
      " ng2D)                                                           \n",
      "                                                                 \n",
      " conv2d_51 (Conv2D)          (None, 8, 8, 32)          9216      \n",
      "                                                                 \n",
      " max_pooling2d_40 (MaxPooli  (None, 4, 4, 32)          0         \n",
      " ng2D)                                                           \n",
      "                                                                 \n",
      " max_pooling2d_41 (MaxPooli  (None, 2, 2, 32)          0         \n",
      " ng2D)                                                           \n",
      "                                                                 \n",
      " batch_normalization_20 (Ba  (None, 2, 2, 32)          128       \n",
      " tchNormalization)                                               \n",
      "                                                                 \n",
      " activation_20 (Activation)  (None, 2, 2, 32)          0         \n",
      "                                                                 \n",
      " max_pooling2d_42 (MaxPooli  (None, 1, 1, 32)          0         \n",
      " ng2D)                                                           \n",
      "                                                                 \n",
      " dropout_20 (Dropout)        (None, 1, 1, 32)          0         \n",
      "                                                                 \n",
      " flatten_10 (Flatten)        (None, 32)                0         \n",
      "                                                                 \n",
      " dense_20 (Dense)            (None, 256)               8192      \n",
      "                                                                 \n",
      " batch_normalization_21 (Ba  (None, 256)               1024      \n",
      " tchNormalization)                                               \n",
      "                                                                 \n",
      " activation_21 (Activation)  (None, 256)               0         \n",
      "                                                                 \n",
      " dropout_21 (Dropout)        (None, 256)               0         \n",
      "                                                                 \n",
      " dense_21 (Dense)            (None, 1)                 257       \n",
      "                                                                 \n",
      "=================================================================\n",
      "Total params: 38145 (149.00 KB)\n",
      "Trainable params: 37569 (146.75 KB)\n",
      "Non-trainable params: 576 (2.25 KB)\n",
      "_________________________________________________________________\n",
      "None\n"
     ]
    }
   ],
   "source": [
    "kernel_size = (3,3)\n",
    "pool_size= (2,2)\n",
    "first_filter = 32\n",
    "second_filter = 64\n",
    "third_filter = 128\n",
    "\n",
    "dropout_conv = 0.3\n",
    "dropout_dense = 0.5\n",
    "\n",
    "model6 = Sequential()\n",
    "model6.add(Conv2D(first_filter, kernel_size, activation = 'relu', input_shape = (imagesize, imagesize, 3)))\n",
    "model6.add(MaxPool2D(pool_size = pool_size)) \n",
    "model6.add(Conv2D(first_filter, kernel_size, use_bias=False))\n",
    "model6.add(MaxPool2D(pool_size = pool_size)) \n",
    "model6.add(Conv2D(first_filter, kernel_size, use_bias=False))\n",
    "model6.add(MaxPool2D(pool_size = pool_size)) \n",
    "model6.add(Conv2D(first_filter, kernel_size, use_bias=False))\n",
    "model6.add(MaxPool2D(pool_size = pool_size)) \n",
    "model6.add(MaxPool2D(pool_size = pool_size)) \n",
    "\n",
    "model6.add(BatchNormalization())\n",
    "model6.add(Activation(\"relu\"))\n",
    "model6.add(MaxPool2D(pool_size = pool_size)) \n",
    "model6.add(Dropout(dropout_conv))\n",
    "\n",
    "model6.add(Flatten())\n",
    "model6.add(Dense(256, use_bias=False))\n",
    "model6.add(BatchNormalization())\n",
    "model6.add(Activation(\"relu\"))\n",
    "model6.add(Dropout(dropout_dense))\n",
    "model6.add(Dense(1, activation = \"sigmoid\"))\n",
    "\n",
    "\n",
    "model6.compile(Adam(0.01), loss = \"binary_crossentropy\", metrics=[\"accuracy\"])\n",
    "print(model6.summary())"
   ]
  },
  {
   "cell_type": "code",
   "execution_count": 62,
   "metadata": {},
   "outputs": [
    {
     "name": "stdout",
     "output_type": "stream",
     "text": [
      "Epoch 1/5\n"
     ]
    },
    {
     "name": "stderr",
     "output_type": "stream",
     "text": [
      "C:\\Users\\amcfa\\AppData\\Local\\Temp\\ipykernel_17948\\145434205.py:4: UserWarning: `Model.fit_generator` is deprecated and will be removed in a future version. Please use `Model.fit`, which supports generators.\n",
      "  model_7 = model6.fit_generator(train_gen, steps_per_epoch=train_steps,\n"
     ]
    },
    {
     "name": "stdout",
     "output_type": "stream",
     "text": [
      "282/282 [==============================] - 34s 117ms/step - loss: 0.5523 - accuracy: 0.7396 - val_loss: 0.6524 - val_accuracy: 0.6230 - lr: 0.0100\n",
      "Epoch 2/5\n",
      "282/282 [==============================] - 32s 115ms/step - loss: 0.4804 - accuracy: 0.7802 - val_loss: 0.5609 - val_accuracy: 0.7155 - lr: 0.0100\n",
      "Epoch 3/5\n",
      "282/282 [==============================] - ETA: 0s - loss: 0.4583 - accuracy: 0.7967\n",
      "Epoch 3: ReduceLROnPlateau reducing learning rate to 0.0009999999776482583.\n",
      "Restoring model weights from the end of the best epoch: 2.\n",
      "282/282 [==============================] - 32s 115ms/step - loss: 0.4583 - accuracy: 0.7967 - val_loss: 1.2950 - val_accuracy: 0.5000 - lr: 0.0100\n",
      "Epoch 3: early stopping\n"
     ]
    }
   ],
   "source": [
    "from keras.callbacks import EarlyStopping, ReduceLROnPlateau\n",
    "earlystopper = EarlyStopping(monitor='val_loss', patience=1, verbose=1, restore_best_weights=True)\n",
    "reducel = ReduceLROnPlateau(monitor='val_loss', patience=1, verbose=1, factor=0.1)\n",
    "model_7 = model6.fit_generator(train_gen, steps_per_epoch=train_steps, \n",
    "                    validation_data=val_gen,\n",
    "                    validation_steps=val_steps,\n",
    "                    epochs=5,\n",
    "                   callbacks=[reducel, earlystopper])"
   ]
  },
  {
   "cell_type": "code",
   "execution_count": null,
   "metadata": {},
   "outputs": [],
   "source": [
    "plt.plot(model_6.history['accuracy'],'m')\n",
    "plt.plot(model_6.history['val_accuracy'],'c')\n",
    "plt.title('Model two Accuracy per Epoch')\n",
    "plt.xlabel('Epoch #')\n",
    "plt.ylabel('Accuracy')\n",
    "plt.legend(['train', 'validate'], loc='middle')\n",
    "plt.show()"
   ]
  },
  {
   "cell_type": "code",
   "execution_count": 63,
   "metadata": {},
   "outputs": [
    {
     "name": "stdout",
     "output_type": "stream",
     "text": [
      "Model: \"sequential_11\"\n",
      "_________________________________________________________________\n",
      " Layer (type)                Output Shape              Param #   \n",
      "=================================================================\n",
      " conv2d_52 (Conv2D)          (None, 94, 94, 32)        896       \n",
      "                                                                 \n",
      " max_pooling2d_43 (MaxPooli  (None, 47, 47, 32)        0         \n",
      " ng2D)                                                           \n",
      "                                                                 \n",
      " conv2d_53 (Conv2D)          (None, 45, 45, 32)        9216      \n",
      "                                                                 \n",
      " max_pooling2d_44 (MaxPooli  (None, 22, 22, 32)        0         \n",
      " ng2D)                                                           \n",
      "                                                                 \n",
      " conv2d_54 (Conv2D)          (None, 20, 20, 32)        9216      \n",
      "                                                                 \n",
      " max_pooling2d_45 (MaxPooli  (None, 10, 10, 32)        0         \n",
      " ng2D)                                                           \n",
      "                                                                 \n",
      " conv2d_55 (Conv2D)          (None, 8, 8, 32)          9216      \n",
      "                                                                 \n",
      " max_pooling2d_46 (MaxPooli  (None, 4, 4, 32)          0         \n",
      " ng2D)                                                           \n",
      "                                                                 \n",
      " max_pooling2d_47 (MaxPooli  (None, 2, 2, 32)          0         \n",
      " ng2D)                                                           \n",
      "                                                                 \n",
      " batch_normalization_22 (Ba  (None, 2, 2, 32)          128       \n",
      " tchNormalization)                                               \n",
      "                                                                 \n",
      " activation_22 (Activation)  (None, 2, 2, 32)          0         \n",
      "                                                                 \n",
      " max_pooling2d_48 (MaxPooli  (None, 1, 1, 32)          0         \n",
      " ng2D)                                                           \n",
      "                                                                 \n",
      " dropout_22 (Dropout)        (None, 1, 1, 32)          0         \n",
      "                                                                 \n",
      " flatten_11 (Flatten)        (None, 32)                0         \n",
      "                                                                 \n",
      " dense_22 (Dense)            (None, 256)               8192      \n",
      "                                                                 \n",
      " batch_normalization_23 (Ba  (None, 256)               1024      \n",
      " tchNormalization)                                               \n",
      "                                                                 \n",
      " activation_23 (Activation)  (None, 256)               0         \n",
      "                                                                 \n",
      " dropout_23 (Dropout)        (None, 256)               0         \n",
      "                                                                 \n",
      " dense_23 (Dense)            (None, 1)                 257       \n",
      "                                                                 \n",
      "=================================================================\n",
      "Total params: 38145 (149.00 KB)\n",
      "Trainable params: 37569 (146.75 KB)\n",
      "Non-trainable params: 576 (2.25 KB)\n",
      "_________________________________________________________________\n",
      "None\n"
     ]
    }
   ],
   "source": [
    "kernel_size = (3,3)\n",
    "pool_size= (2,2)\n",
    "first_filter = 32\n",
    "second_filter = 64\n",
    "third_filter = 128\n",
    "\n",
    "dropout_conv = 0.1\n",
    "dropout_dense = 0.5\n",
    "\n",
    "model7 = Sequential()\n",
    "model7.add(Conv2D(first_filter, kernel_size, activation = 'relu', input_shape = (imagesize, imagesize, 3)))\n",
    "model7.add(MaxPool2D(pool_size = pool_size)) \n",
    "model7.add(Conv2D(first_filter, kernel_size, use_bias=False))\n",
    "model7.add(MaxPool2D(pool_size = pool_size)) \n",
    "model7.add(Conv2D(first_filter, kernel_size, use_bias=False))\n",
    "model7.add(MaxPool2D(pool_size = pool_size)) \n",
    "model7.add(Conv2D(first_filter, kernel_size, use_bias=False))\n",
    "model7.add(MaxPool2D(pool_size = pool_size)) \n",
    "model7.add(MaxPool2D(pool_size = pool_size)) \n",
    "\n",
    "model7.add(BatchNormalization())\n",
    "model7.add(Activation(\"relu\"))\n",
    "model7.add(MaxPool2D(pool_size = pool_size)) \n",
    "model7.add(Dropout(dropout_conv))\n",
    "\n",
    "model7.add(Conv2D(second_filter, kernel_size, activation = 'relu', input_shape = (imagesize, imagesize, 3)))\n",
    "model7.add(MaxPool2D(pool_size = pool_size)) \n",
    "model7.add(Conv2D(second_filter,, kernel_size, use_bias=False))\n",
    "model7.add(MaxPool2D(pool_size = pool_size)) \n",
    "model7.add(Conv2D(second_filter,, kernel_size, use_bias=False))\n",
    "model7.add(MaxPool2D(pool_size = pool_size)) \n",
    "model7.add(Conv2D(second_filter,, kernel_size, use_bias=False))\n",
    "model7.add(MaxPool2D(pool_size = pool_size)) \n",
    "model7.add(MaxPool2D(pool_size = pool_size)) \n",
    "\n",
    "\n",
    "model7.add(Flatten())\n",
    "model7.add(Dense(256, use_bias=False))\n",
    "model7.add(BatchNormalization())\n",
    "model7.add(Activation(\"relu\"))\n",
    "model7.add(Dropout(dropout_dense))\n",
    "model7.add(Dense(1, activation = \"sigmoid\"))\n",
    "\n",
    "\n",
    "model7.compile(Adam(0.01), loss = \"binary_crossentropy\", metrics=[\"accuracy\"])\n",
    "print(model7.summary())"
   ]
  },
  {
   "cell_type": "code",
   "execution_count": 64,
   "metadata": {},
   "outputs": [
    {
     "name": "stdout",
     "output_type": "stream",
     "text": [
      "Epoch 1/5\n"
     ]
    },
    {
     "name": "stderr",
     "output_type": "stream",
     "text": [
      "C:\\Users\\amcfa\\AppData\\Local\\Temp\\ipykernel_17948\\530079701.py:4: UserWarning: `Model.fit_generator` is deprecated and will be removed in a future version. Please use `Model.fit`, which supports generators.\n",
      "  model_8 = model7.fit_generator(train_gen, steps_per_epoch=train_steps,\n"
     ]
    },
    {
     "name": "stdout",
     "output_type": "stream",
     "text": [
      "282/282 [==============================] - 33s 113ms/step - loss: 0.5358 - accuracy: 0.7506 - val_loss: 0.5021 - val_accuracy: 0.7575 - lr: 0.0100\n",
      "Epoch 2/5\n",
      "282/282 [==============================] - ETA: 0s - loss: 0.4480 - accuracy: 0.7971\n",
      "Epoch 2: ReduceLROnPlateau reducing learning rate to 0.0009999999776482583.\n",
      "Restoring model weights from the end of the best epoch: 1.\n",
      "282/282 [==============================] - 32s 114ms/step - loss: 0.4480 - accuracy: 0.7971 - val_loss: 0.5134 - val_accuracy: 0.7515 - lr: 0.0100\n",
      "Epoch 2: early stopping\n"
     ]
    }
   ],
   "source": [
    "from keras.callbacks import EarlyStopping, ReduceLROnPlateau\n",
    "earlystopper = EarlyStopping(monitor='val_loss', patience=1, verbose=1, restore_best_weights=True)\n",
    "reducel = ReduceLROnPlateau(monitor='val_loss', patience=1, verbose=1, factor=0.1)\n",
    "model_8 = model7.fit_generator(train_gen, steps_per_epoch=train_steps, \n",
    "                    validation_data=val_gen,\n",
    "                    validation_steps=val_steps,\n",
    "                    epochs=5,\n",
    "                   callbacks=[reducel, earlystopper])"
   ]
  },
  {
   "cell_type": "code",
   "execution_count": null,
   "metadata": {},
   "outputs": [],
   "source": [
    "plt.plot(model_7.history['accuracy'],'m')\n",
    "plt.plot(model_7.history['val_accuracy'],'c')\n",
    "plt.title('Model two Accuracy per Epoch')\n",
    "plt.xlabel('Epoch #')\n",
    "plt.ylabel('Accuracy')\n",
    "plt.legend(['train', 'validate'], loc='middle')\n",
    "plt.show()"
   ]
  },
  {
   "cell_type": "markdown",
   "metadata": {},
   "source": [
    "## Reduced Number of ConV2D\n",
    "Max Reduced Number of Conv2D\n",
    "\n",
    "Conversely, the applications of Conv2D will be reduced.\n",
    "\n",
    "At first only 1 repetition will be used. There was a marketable decrease in accuracy. And the model discontinued after only 3 Epochs.\n"
   ]
  },
  {
   "cell_type": "code",
   "execution_count": 66,
   "metadata": {},
   "outputs": [
    {
     "name": "stdout",
     "output_type": "stream",
     "text": [
      "Found 18000 images belonging to 2 classes.\n",
      "Found 2000 images belonging to 2 classes.\n",
      "Found 2000 images belonging to 2 classes.\n"
     ]
    }
   ],
   "source": [
    "from keras.preprocessing.image import ImageDataGenerator\n",
    "\n",
    "imagesize = 96\n",
    "train_samples_num = len(df_train)\n",
    "val_samples_num = len(df_val)\n",
    "train_batch_size = 32\n",
    "val_batch_size = 32\n",
    "\n",
    "train_steps = np.ceil(train_samples_num / train_batch_size)\n",
    "val_steps = np.ceil(val_samples_num / val_batch_size)\n",
    "\n",
    "datagen = ImageDataGenerator(preprocessing_function=lambda x:(x - x.mean()) / x.std() if x.std() > 0 else x,\n",
    "                            horizontal_flip=True,\n",
    "                            vertical_flip=True)\n",
    "\n",
    "train_gen = datagen.flow_from_directory(train_path,\n",
    "                                        target_size=(imagesize,imagesize),\n",
    "                                        batch_size=train_batch_size,\n",
    "                                        class_mode='binary')\n",
    "\n",
    "val_gen = datagen.flow_from_directory(valid_path,\n",
    "                                        target_size=(imagesize,imagesize),\n",
    "                                        batch_size=val_batch_size,\n",
    "                                        class_mode='binary')\n",
    "\n",
    "\n",
    "test_gen = datagen.flow_from_directory(valid_path,\n",
    "                                        target_size=(imagesize,imagesize),\n",
    "                                        batch_size=1,\n",
    "                                        class_mode='binary',\n",
    "                                        shuffle=False)"
   ]
  },
  {
   "cell_type": "markdown",
   "metadata": {},
   "source": [
    "CONV2D reduced Below"
   ]
  },
  {
   "cell_type": "code",
   "execution_count": 68,
   "metadata": {},
   "outputs": [
    {
     "name": "stdout",
     "output_type": "stream",
     "text": [
      "Model: \"sequential_14\"\n",
      "_________________________________________________________________\n",
      " Layer (type)                Output Shape              Param #   \n",
      "=================================================================\n",
      " conv2d_66 (Conv2D)          (None, 94, 94, 32)        896       \n",
      "                                                                 \n",
      " max_pooling2d_61 (MaxPooli  (None, 47, 47, 32)        0         \n",
      " ng2D)                                                           \n",
      "                                                                 \n",
      " batch_normalization_26 (Ba  (None, 47, 47, 32)        128       \n",
      " tchNormalization)                                               \n",
      "                                                                 \n",
      " activation_26 (Activation)  (None, 47, 47, 32)        0         \n",
      "                                                                 \n",
      " max_pooling2d_62 (MaxPooli  (None, 23, 23, 32)        0         \n",
      " ng2D)                                                           \n",
      "                                                                 \n",
      " dropout_26 (Dropout)        (None, 23, 23, 32)        0         \n",
      "                                                                 \n",
      " conv2d_67 (Conv2D)          (None, 21, 21, 64)        18496     \n",
      "                                                                 \n",
      " flatten_12 (Flatten)        (None, 28224)             0         \n",
      "                                                                 \n",
      " dense_24 (Dense)            (None, 256)               7225344   \n",
      "                                                                 \n",
      " batch_normalization_27 (Ba  (None, 256)               1024      \n",
      " tchNormalization)                                               \n",
      "                                                                 \n",
      " activation_27 (Activation)  (None, 256)               0         \n",
      "                                                                 \n",
      " dropout_27 (Dropout)        (None, 256)               0         \n",
      "                                                                 \n",
      " dense_25 (Dense)            (None, 1)                 257       \n",
      "                                                                 \n",
      "=================================================================\n",
      "Total params: 7246145 (27.64 MB)\n",
      "Trainable params: 7245569 (27.64 MB)\n",
      "Non-trainable params: 576 (2.25 KB)\n",
      "_________________________________________________________________\n",
      "None\n"
     ]
    }
   ],
   "source": [
    "kernel_size = (3,3)\n",
    "pool_size= (2,2)\n",
    "first_filter = 32\n",
    "second_filter = 64\n",
    "third_filter = 128\n",
    "\n",
    "dropout_conv = 0.1\n",
    "dropout_dense = 0.5\n",
    "\n",
    "model8 = Sequential()\n",
    "model8.add(Conv2D(first_filter, kernel_size, activation = 'relu', input_shape = (imagesize, imagesize, 3)))\n",
    "model8.add(MaxPool2D(pool_size = pool_size)) \n",
    "\n",
    "model8.add(BatchNormalization())\n",
    "model8.add(Activation(\"relu\"))\n",
    "model8.add(MaxPool2D(pool_size = pool_size)) \n",
    "model8.add(Dropout(dropout_conv))\n",
    "\n",
    "\n",
    "\n",
    "\n",
    "\n",
    "model8.add(Flatten())\n",
    "model8.add(Dense(256, use_bias=False))\n",
    "model8.add(BatchNormalization())\n",
    "model8.add(Activation(\"relu\"))\n",
    "model8.add(Dropout(dropout_dense))\n",
    "model8.add(Dense(1, activation = \"sigmoid\"))\n",
    "\n",
    "\n",
    "model8.compile(Adam(0.01), loss = \"binary_crossentropy\", metrics=[\"accuracy\"])\n",
    "print(model8.summary())"
   ]
  },
  {
   "cell_type": "code",
   "execution_count": 69,
   "metadata": {},
   "outputs": [
    {
     "name": "stdout",
     "output_type": "stream",
     "text": [
      "Epoch 1/5\n"
     ]
    },
    {
     "name": "stderr",
     "output_type": "stream",
     "text": [
      "C:\\Users\\amcfa\\AppData\\Local\\Temp\\ipykernel_17948\\150718081.py:4: UserWarning: `Model.fit_generator` is deprecated and will be removed in a future version. Please use `Model.fit`, which supports generators.\n",
      "  model_9 = model8.fit_generator(train_gen, steps_per_epoch=train_steps,\n"
     ]
    },
    {
     "name": "stdout",
     "output_type": "stream",
     "text": [
      "563/563 [==============================] - 52s 90ms/step - loss: 0.5249 - accuracy: 0.7535 - val_loss: 0.6027 - val_accuracy: 0.7015 - lr: 0.0100\n",
      "Epoch 2/5\n",
      "563/563 [==============================] - 51s 90ms/step - loss: 0.4479 - accuracy: 0.7932 - val_loss: 0.4068 - val_accuracy: 0.8130 - lr: 0.0100\n",
      "Epoch 3/5\n",
      "563/563 [==============================] - 52s 91ms/step - loss: 0.4223 - accuracy: 0.8112 - val_loss: 0.4032 - val_accuracy: 0.8190 - lr: 0.0100\n",
      "Epoch 4/5\n",
      "563/563 [==============================] - 50s 89ms/step - loss: 0.4085 - accuracy: 0.8160 - val_loss: 0.4012 - val_accuracy: 0.8260 - lr: 0.0100\n",
      "Epoch 5/5\n",
      "563/563 [==============================] - ETA: 0s - loss: 0.3906 - accuracy: 0.8256\n",
      "Epoch 5: ReduceLROnPlateau reducing learning rate to 0.0009999999776482583.\n",
      "Restoring model weights from the end of the best epoch: 4.\n",
      "563/563 [==============================] - 51s 90ms/step - loss: 0.3906 - accuracy: 0.8256 - val_loss: 0.4164 - val_accuracy: 0.8230 - lr: 0.0100\n",
      "Epoch 5: early stopping\n"
     ]
    }
   ],
   "source": [
    "from keras.callbacks import EarlyStopping, ReduceLROnPlateau\n",
    "earlystopper = EarlyStopping(monitor='val_loss', patience=1, verbose=1, restore_best_weights=True)\n",
    "reducel = ReduceLROnPlateau(monitor='val_loss', patience=1, verbose=1, factor=0.1)\n",
    "model_9 = model8.fit_generator(train_gen, steps_per_epoch=train_steps, \n",
    "                    validation_data=val_gen,\n",
    "                    validation_steps=val_steps,\n",
    "                    epochs=5,\n",
    "                   callbacks=[reducel, earlystopper])"
   ]
  },
  {
   "cell_type": "code",
   "execution_count": 78,
   "metadata": {},
   "outputs": [
    {
     "data": {
      "image/png": "[encoded data removed]",
      "text/plain": [
       "<Figure size 640x480 with 1 Axes>"
      ]
     },
     "metadata": {},
     "output_type": "display_data"
    }
   ],
   "source": [
    "plt.plot(model_9.history['val_loss'])\n",
    "plt.plot(model_9.history['val_accuracy'])\n",
    "plt.title('Validation set Accuracy per Epoch')\n",
    "plt.xlabel('Epoch #')\n",
    "plt.ylabel('Accuracy')\n",
    "plt.legend(['val_loss', 'val_accuracy'], loc='upper left')\n",
    "plt.show()"
   ]
  },
  {
   "cell_type": "code",
   "execution_count": 79,
   "metadata": {},
   "outputs": [
    {
     "data": {
      "image/png": "[encoded data removed]",
      "text/plain": [
       "<Figure size 640x480 with 1 Axes>"
      ]
     },
     "metadata": {},
     "output_type": "display_data"
    }
   ],
   "source": [
    "plt.plot(model_9.history['loss'])\n",
    "plt.plot(model_9.history['accuracy'])\n",
    "plt.title('Model Accuracy per Epoch')\n",
    "plt.xlabel('Epoch #')\n",
    "plt.ylabel('Accuracy')\n",
    "plt.legend(['val_loss', 'val_accuracy'], loc='upper left')\n",
    "plt.show()"
   ]
  },
  {
   "cell_type": "markdown",
   "metadata": {},
   "source": [
    "## Second Filter added\n",
    "The first filter is already there.\n",
    "I added to the filter for the COnv2D parameter and the model immediately was able to finish almost the entire 5 epochs of training. I filtered using the second filter as well as the first.Instead of just a single filter which the model originally contained."
   ]
  },
  {
   "cell_type": "code",
   "execution_count": 81,
   "metadata": {},
   "outputs": [
    {
     "name": "stdout",
     "output_type": "stream",
     "text": [
      "Model: \"sequential_15\"\n",
      "_________________________________________________________________\n",
      " Layer (type)                Output Shape              Param #   \n",
      "=================================================================\n",
      " conv2d_68 (Conv2D)          (None, 94, 94, 32)        896       \n",
      "                                                                 \n",
      " max_pooling2d_63 (MaxPooli  (None, 47, 47, 32)        0         \n",
      " ng2D)                                                           \n",
      "                                                                 \n",
      " batch_normalization_28 (Ba  (None, 47, 47, 32)        128       \n",
      " tchNormalization)                                               \n",
      "                                                                 \n",
      " activation_28 (Activation)  (None, 47, 47, 32)        0         \n",
      "                                                                 \n",
      " max_pooling2d_64 (MaxPooli  (None, 23, 23, 32)        0         \n",
      " ng2D)                                                           \n",
      "                                                                 \n",
      " dropout_28 (Dropout)        (None, 23, 23, 32)        0         \n",
      "                                                                 \n",
      " conv2d_69 (Conv2D)          (None, 21, 21, 64)        18496     \n",
      "                                                                 \n",
      " flatten_13 (Flatten)        (None, 28224)             0         \n",
      "                                                                 \n",
      " dense_26 (Dense)            (None, 256)               7225344   \n",
      "                                                                 \n",
      " batch_normalization_29 (Ba  (None, 256)               1024      \n",
      " tchNormalization)                                               \n",
      "                                                                 \n",
      " activation_29 (Activation)  (None, 256)               0         \n",
      "                                                                 \n",
      " dropout_29 (Dropout)        (None, 256)               0         \n",
      "                                                                 \n",
      " dense_27 (Dense)            (None, 1)                 257       \n",
      "                                                                 \n",
      "=================================================================\n",
      "Total params: 7246145 (27.64 MB)\n",
      "Trainable params: 7245569 (27.64 MB)\n",
      "Non-trainable params: 576 (2.25 KB)\n",
      "_________________________________________________________________\n",
      "None\n"
     ]
    }
   ],
   "source": [
    "kernel_size = (3,3)\n",
    "pool_size= (2,2)\n",
    "first_filter = 32\n",
    "second_filter = 64\n",
    "third_filter = 128\n",
    "\n",
    "dropout_conv = 0.1\n",
    "dropout_dense = 0.5\n",
    "\n",
    "model9 = Sequential()\n",
    "model9.add(Conv2D(first_filter, kernel_size, activation = 'relu', input_shape = (imagesize, imagesize, 3)))\n",
    "model9.add(MaxPool2D(pool_size = pool_size)) \n",
    "\n",
    "model9.add(BatchNormalization())\n",
    "model9.add(Activation(\"relu\"))\n",
    "model9.add(MaxPool2D(pool_size = pool_size)) \n",
    "model9.add(Dropout(dropout_conv))\n",
    "\n",
    "model9.add(Conv2D(second_filter, kernel_size, activation = 'relu', input_shape = (imagesize, imagesize, 3)))\n",
    "\n",
    "\n",
    "\n",
    "model9.add(Flatten())\n",
    "model9.add(Dense(256, use_bias=False))\n",
    "model9.add(BatchNormalization())\n",
    "model9.add(Activation(\"relu\"))\n",
    "model9.add(Dropout(dropout_dense))\n",
    "model9.add(Dense(1, activation = \"sigmoid\"))\n",
    "\n",
    "\n",
    "model9.compile(Adam(0.01), loss = \"binary_crossentropy\", metrics=[\"accuracy\"])\n",
    "print(model9.summary())"
   ]
  },
  {
   "cell_type": "code",
   "execution_count": 82,
   "metadata": {},
   "outputs": [
    {
     "name": "stdout",
     "output_type": "stream",
     "text": [
      "Epoch 1/10\n"
     ]
    },
    {
     "name": "stderr",
     "output_type": "stream",
     "text": [
      "C:\\Users\\amcfa\\AppData\\Local\\Temp\\ipykernel_17948\\1895305655.py:4: UserWarning: `Model.fit_generator` is deprecated and will be removed in a future version. Please use `Model.fit`, which supports generators.\n",
      "  model_10 = model9.fit_generator(train_gen, steps_per_epoch=train_steps,\n"
     ]
    },
    {
     "name": "stdout",
     "output_type": "stream",
     "text": [
      "563/563 [==============================] - 52s 91ms/step - loss: 0.5278 - accuracy: 0.7514 - val_loss: 2.1823 - val_accuracy: 0.5530 - lr: 0.0100\n",
      "Epoch 2/10\n",
      "563/563 [==============================] - 51s 91ms/step - loss: 0.4542 - accuracy: 0.7928 - val_loss: 0.9878 - val_accuracy: 0.5910 - lr: 0.0100\n",
      "Epoch 3/10\n",
      "563/563 [==============================] - 52s 92ms/step - loss: 0.4299 - accuracy: 0.8043 - val_loss: 0.4399 - val_accuracy: 0.8115 - lr: 0.0100\n",
      "Epoch 4/10\n",
      "563/563 [==============================] - ETA: 0s - loss: 0.4099 - accuracy: 0.8177\n",
      "Epoch 4: ReduceLROnPlateau reducing learning rate to 0.0009999999776482583.\n",
      "Restoring model weights from the end of the best epoch: 3.\n",
      "563/563 [==============================] - 52s 92ms/step - loss: 0.4099 - accuracy: 0.8177 - val_loss: 0.4428 - val_accuracy: 0.8315 - lr: 0.0100\n",
      "Epoch 4: early stopping\n"
     ]
    }
   ],
   "source": [
    "from keras.callbacks import EarlyStopping, ReduceLROnPlateau\n",
    "earlystopper = EarlyStopping(monitor='val_loss', patience=1, verbose=1, restore_best_weights=True)\n",
    "reducel = ReduceLROnPlateau(monitor='val_loss', patience=1, verbose=1, factor=0.1)\n",
    "model_10 = model9.fit_generator(train_gen, steps_per_epoch=train_steps, \n",
    "                    validation_data=val_gen,\n",
    "                    validation_steps=val_steps,\n",
    "                    epochs=10,\n",
    "                   callbacks=[reducel, earlystopper])"
   ]
  },
  {
   "cell_type": "markdown",
   "metadata": {},
   "source": [
    "## Maxpool added to second filter"
   ]
  },
  {
   "cell_type": "code",
   "execution_count": 83,
   "metadata": {},
   "outputs": [
    {
     "name": "stdout",
     "output_type": "stream",
     "text": [
      "Model: \"sequential_16\"\n",
      "_________________________________________________________________\n",
      " Layer (type)                Output Shape              Param #   \n",
      "=================================================================\n",
      " conv2d_70 (Conv2D)          (None, 94, 94, 32)        896       \n",
      "                                                                 \n",
      " max_pooling2d_65 (MaxPooli  (None, 47, 47, 32)        0         \n",
      " ng2D)                                                           \n",
      "                                                                 \n",
      " batch_normalization_30 (Ba  (None, 47, 47, 32)        128       \n",
      " tchNormalization)                                               \n",
      "                                                                 \n",
      " activation_30 (Activation)  (None, 47, 47, 32)        0         \n",
      "                                                                 \n",
      " max_pooling2d_66 (MaxPooli  (None, 23, 23, 32)        0         \n",
      " ng2D)                                                           \n",
      "                                                                 \n",
      " dropout_30 (Dropout)        (None, 23, 23, 32)        0         \n",
      "                                                                 \n",
      " conv2d_71 (Conv2D)          (None, 21, 21, 64)        18496     \n",
      "                                                                 \n",
      " max_pooling2d_67 (MaxPooli  (None, 10, 10, 64)        0         \n",
      " ng2D)                                                           \n",
      "                                                                 \n",
      " flatten_14 (Flatten)        (None, 6400)              0         \n",
      "                                                                 \n",
      " dense_28 (Dense)            (None, 256)               1638400   \n",
      "                                                                 \n",
      " batch_normalization_31 (Ba  (None, 256)               1024      \n",
      " tchNormalization)                                               \n",
      "                                                                 \n",
      " activation_31 (Activation)  (None, 256)               0         \n",
      "                                                                 \n",
      " dropout_31 (Dropout)        (None, 256)               0         \n",
      "                                                                 \n",
      " dense_29 (Dense)            (None, 1)                 257       \n",
      "                                                                 \n",
      "=================================================================\n",
      "Total params: 1659201 (6.33 MB)\n",
      "Trainable params: 1658625 (6.33 MB)\n",
      "Non-trainable params: 576 (2.25 KB)\n",
      "_________________________________________________________________\n",
      "None\n"
     ]
    }
   ],
   "source": [
    "kernel_size = (3,3)\n",
    "pool_size= (2,2)\n",
    "first_filter = 32\n",
    "second_filter = 64\n",
    "third_filter = 128\n",
    "\n",
    "dropout_conv = 0.1\n",
    "dropout_dense = 0.5\n",
    "\n",
    "model10 = Sequential()\n",
    "model10.add(Conv2D(first_filter, kernel_size, activation = 'relu', input_shape = (imagesize, imagesize, 3)))\n",
    "model10.add(MaxPool2D(pool_size = pool_size)) \n",
    "\n",
    "model10.add(BatchNormalization())\n",
    "model10.add(Activation(\"relu\"))\n",
    "model10.add(MaxPool2D(pool_size = pool_size)) \n",
    "model10.add(Dropout(dropout_conv))\n",
    "\n",
    "model10.add(Conv2D(second_filter, kernel_size, activation = 'relu', input_shape = (imagesize, imagesize, 3)))\n",
    "model10.add(MaxPool2D(pool_size = pool_size)) \n",
    "\n",
    "\n",
    "model10.add(Flatten())\n",
    "model10.add(Dense(256, use_bias=False))\n",
    "model10.add(BatchNormalization())\n",
    "model10.add(Activation(\"relu\"))\n",
    "model10.add(Dropout(dropout_dense))\n",
    "model10.add(Dense(1, activation = \"sigmoid\"))\n",
    "\n",
    "\n",
    "model10.compile(Adam(0.01), loss = \"binary_crossentropy\", metrics=[\"accuracy\"])\n",
    "print(model10.summary())"
   ]
  },
  {
   "cell_type": "code",
   "execution_count": 84,
   "metadata": {},
   "outputs": [
    {
     "name": "stdout",
     "output_type": "stream",
     "text": [
      "Epoch 1/10\n"
     ]
    },
    {
     "name": "stderr",
     "output_type": "stream",
     "text": [
      "C:\\Users\\amcfa\\AppData\\Local\\Temp\\ipykernel_17948\\2062225469.py:4: UserWarning: `Model.fit_generator` is deprecated and will be removed in a future version. Please use `Model.fit`, which supports generators.\n",
      "  model_11 = model10.fit_generator(train_gen, steps_per_epoch=train_steps,\n"
     ]
    },
    {
     "name": "stdout",
     "output_type": "stream",
     "text": [
      "563/563 [==============================] - 37s 63ms/step - loss: 0.5212 - accuracy: 0.7531 - val_loss: 0.4994 - val_accuracy: 0.7515 - lr: 0.0100\n",
      "Epoch 2/10\n",
      "563/563 [==============================] - 35s 62ms/step - loss: 0.4511 - accuracy: 0.7940 - val_loss: 0.4168 - val_accuracy: 0.8095 - lr: 0.0100\n",
      "Epoch 3/10\n",
      "563/563 [==============================] - ETA: 0s - loss: 0.4249 - accuracy: 0.8076\n",
      "Epoch 3: ReduceLROnPlateau reducing learning rate to 0.0009999999776482583.\n",
      "Restoring model weights from the end of the best epoch: 2.\n",
      "563/563 [==============================] - 36s 63ms/step - loss: 0.4249 - accuracy: 0.8076 - val_loss: 0.4664 - val_accuracy: 0.7735 - lr: 0.0100\n",
      "Epoch 3: early stopping\n"
     ]
    }
   ],
   "source": [
    "from keras.callbacks import EarlyStopping, ReduceLROnPlateau\n",
    "earlystopper = EarlyStopping(monitor='val_loss', patience=1, verbose=1, restore_best_weights=True)\n",
    "reducel = ReduceLROnPlateau(monitor='val_loss', patience=1, verbose=1, factor=0.1)\n",
    "model_11 = model10.fit_generator(train_gen, steps_per_epoch=train_steps, \n",
    "                    validation_data=val_gen,\n",
    "                    validation_steps=val_steps,\n",
    "                    epochs=10,\n",
    "                   callbacks=[reducel, earlystopper])"
   ]
  },
  {
   "cell_type": "markdown",
   "metadata": {},
   "source": [
    "## Batch Normalization"
   ]
  },
  {
   "cell_type": "markdown",
   "metadata": {},
   "source": [
    "Each step has a normalization step added, immediate increase in accuracy and ability of model to train on additional epochs."
   ]
  },
  {
   "cell_type": "markdown",
   "metadata": {},
   "source": [
    "## Change batch normalization with Conv2D:"
   ]
  },
  {
   "cell_type": "code",
   "execution_count": 111,
   "metadata": {},
   "outputs": [],
   "source": [
    "\n",
    "kernel_size = (3,3)\n",
    "pool_size= (2,2)\n",
    "first_filter = 32\n",
    "second_filter = 64\n",
    "third_filter = 128\n",
    "\n",
    "dropout_conv = 0.3\n",
    "dropout_dense = 0.5\n",
    "\n",
    "model15 = Sequential()\n",
    "model15.add(Conv2D(first_filter, kernel_size, activation = 'relu', input_shape = (imagesize, imagesize, 3)))\n",
    "model15.add(MaxPool2D(pool_size = pool_size)) \n",
    "model15.add(BatchNormalization())\n",
    "model15.add(Activation(\"relu\"))\n",
    "model15.add(MaxPool2D(pool_size = pool_size))\n",
    "model15.add(Dropout(dropout_conv))\n",
    "\n",
    "model15.add(Conv2D(second_filter, kernel_size, use_bias=False))\n",
    "model15.add(MaxPool2D(pool_size = pool_size))\n",
    "model15.add(BatchNormalization())\n",
    "model15.add(Activation(\"relu\"))\n",
    "model15.add(Dropout(dropout_conv))\n",
    "\n",
    "model15.add(Conv2D(third_filter, kernel_size, use_bias=False))\n",
    "model15.add(MaxPool2D(pool_size = pool_size))\n",
    "model15.add(BatchNormalization())\n",
    "model15.add(Activation(\"relu\"))\n",
    "model15.add(Dropout(dropout_conv))\n",
    "\n",
    "\n",
    "model15.add(Flatten())\n",
    "model15.add(Dense(256, use_bias=False))\n",
    "model15.add(BatchNormalization())\n",
    "model15.add(Activation(\"relu\"))\n",
    "model15.add(Dropout(dropout_dense))\n",
    "model15.add(Dense(1, activation = \"sigmoid\"))\n",
    "\n",
    "\n",
    "model15.compile(Adam(0.01), loss = \"binary_crossentropy\", metrics=[\"accuracy\"])"
   ]
  },
  {
   "cell_type": "code",
   "execution_count": 112,
   "metadata": {},
   "outputs": [
    {
     "name": "stdout",
     "output_type": "stream",
     "text": [
      "Epoch 1/10\n"
     ]
    },
    {
     "name": "stderr",
     "output_type": "stream",
     "text": [
      "C:\\Users\\amcfa\\AppData\\Local\\Temp\\ipykernel_17948\\2675517937.py:4: UserWarning: `Model.fit_generator` is deprecated and will be removed in a future version. Please use `Model.fit`, which supports generators.\n",
      "  model_16 = model15.fit_generator(train_gen, steps_per_epoch=train_steps,\n"
     ]
    },
    {
     "name": "stdout",
     "output_type": "stream",
     "text": [
      "1000/1000 [==============================] - 65s 64ms/step - loss: 0.4884 - accuracy: 0.7753 - val_loss: 0.4374 - val_accuracy: 0.8125 - lr: 0.0100\n",
      "Epoch 2/10\n",
      "1000/1000 [==============================] - ETA: 0s - loss: 0.4164 - accuracy: 0.8157\n",
      "Epoch 2: ReduceLROnPlateau reducing learning rate to 0.0009999999776482583.\n",
      "1000/1000 [==============================] - 63s 63ms/step - loss: 0.4164 - accuracy: 0.8157 - val_loss: 0.6945 - val_accuracy: 0.7074 - lr: 0.0100\n",
      "Epoch 3/10\n",
      "1000/1000 [==============================] - 63s 63ms/step - loss: 0.3733 - accuracy: 0.8386 - val_loss: 0.3796 - val_accuracy: 0.8353 - lr: 1.0000e-03\n",
      "Epoch 4/10\n",
      "1000/1000 [==============================] - 64s 64ms/step - loss: 0.3586 - accuracy: 0.8453 - val_loss: 0.3480 - val_accuracy: 0.8514 - lr: 1.0000e-03\n",
      "Epoch 5/10\n",
      "1000/1000 [==============================] - ETA: 0s - loss: 0.3498 - accuracy: 0.8482\n",
      "Epoch 5: ReduceLROnPlateau reducing learning rate to 9.999999310821295e-05.\n",
      "1000/1000 [==============================] - 65s 65ms/step - loss: 0.3498 - accuracy: 0.8482 - val_loss: 0.3942 - val_accuracy: 0.8179 - lr: 1.0000e-03\n",
      "Epoch 6/10\n",
      "1000/1000 [==============================] - ETA: 0s - loss: 0.3372 - accuracy: 0.8544\n",
      "Epoch 6: ReduceLROnPlateau reducing learning rate to 9.999999019782991e-06.\n",
      "Restoring model weights from the end of the best epoch: 4.\n",
      "1000/1000 [==============================] - 65s 65ms/step - loss: 0.3372 - accuracy: 0.8544 - val_loss: 0.3506 - val_accuracy: 0.8434 - lr: 1.0000e-04\n",
      "Epoch 6: early stopping\n"
     ]
    }
   ],
   "source": [
    "from keras.callbacks import EarlyStopping, ReduceLROnPlateau\n",
    "earlystopper = EarlyStopping(monitor='val_loss', patience=2, verbose=1, restore_best_weights=True)\n",
    "reducel = ReduceLROnPlateau(monitor='val_loss', patience=1, verbose=1, factor=0.1)\n",
    "model_16 = model15.fit_generator(train_gen, steps_per_epoch=train_steps, \n",
    "                    validation_data=val_gen,\n",
    "                    validation_steps=val_steps,\n",
    "                    epochs=10,\n",
    "                   callbacks=[reducel, earlystopper])"
   ]
  },
  {
   "cell_type": "code",
   "execution_count": 125,
   "metadata": {},
   "outputs": [
    {
     "data": {
      "image/png": "[encoded data removed]",
      "text/plain": [
       "<Figure size 640x480 with 1 Axes>"
      ]
     },
     "metadata": {},
     "output_type": "display_data"
    }
   ],
   "source": [
    "plt.plot(model_16.history['val_loss'],'g')\n",
    "plt.plot(model_16.history['loss'],'c')\n",
    "plt.title('Loss per epoch')\n",
    "plt.xlabel('Epoch #')\n",
    "plt.ylabel('Range')\n",
    "plt.legend(['validation_loss', 'train loss'], loc='upper left')\n",
    "plt.show()"
   ]
  },
  {
   "cell_type": "code",
   "execution_count": 126,
   "metadata": {},
   "outputs": [
    {
     "data": {
      "image/png": "[encoded data removed]",
      "text/plain": [
       "<Figure size 640x480 with 1 Axes>"
      ]
     },
     "metadata": {},
     "output_type": "display_data"
    }
   ],
   "source": [
    "plt.plot(model_16.history['val_accuracy'],'g')\n",
    "plt.plot(model_16.history['accuracy'],'c')\n",
    "plt.title('Accuracy per Epoch')\n",
    "plt.xlabel('Epoch #')\n",
    "plt.ylabel('Range')\n",
    "plt.legend(['val_loss', 'val_accuracy'], loc='upper left')\n",
    "plt.show()"
   ]
  },
  {
   "cell_type": "markdown",
   "metadata": {},
   "source": [
    "## Changed Dropout CONV\n",
    "\n",
    "Each unique filter had Cov2D applied only once, and normalization after pooling.\n",
    "\n",
    "A marketable increase indeed. Now it seems the model simply needs some fine tuning and it should function pretty well. The loss scores and accuracy increased for both the validation and training set. "
   ]
  },
  {
   "cell_type": "code",
   "execution_count": 113,
   "metadata": {},
   "outputs": [],
   "source": [
    "kernel_size = (3,3)\n",
    "pool_size= (2,2)\n",
    "first_filter = 32\n",
    "second_filter = 64\n",
    "third_filter = 128\n",
    "\n",
    "dropout_conv = 0.1 # Changed this value\n",
    "dropout_dense = 0.5\n",
    "\n",
    "model16 = Sequential()\n",
    "model16.add(Conv2D(first_filter, kernel_size, activation = 'relu', input_shape = (imagesize, imagesize, 3)))\n",
    "model16.add(MaxPool2D(pool_size = pool_size)) \n",
    "model16.add(BatchNormalization())\n",
    "model16.add(Activation(\"relu\"))\n",
    "model16.add(MaxPool2D(pool_size = pool_size))\n",
    "model16.add(Dropout(dropout_conv))\n",
    "\n",
    "model16.add(Conv2D(second_filter, kernel_size, use_bias=False))\n",
    "model16.add(MaxPool2D(pool_size = pool_size))\n",
    "model16.add(BatchNormalization())\n",
    "model16.add(Activation(\"relu\"))\n",
    "model16.add(Dropout(dropout_conv))\n",
    "\n",
    "model16.add(Conv2D(third_filter, kernel_size, use_bias=False))\n",
    "model16.add(MaxPool2D(pool_size = pool_size))\n",
    "model16.add(BatchNormalization())\n",
    "model16.add(Activation(\"relu\"))\n",
    "model16.add(Dropout(dropout_conv))\n",
    "\n",
    "\n",
    "model16.add(Flatten())\n",
    "model16.add(Dense(256, use_bias=False))\n",
    "model16.add(BatchNormalization())\n",
    "model16.add(Activation(\"relu\"))\n",
    "model16.add(Dropout(dropout_dense))\n",
    "model16.add(Dense(1, activation = \"sigmoid\"))\n",
    "\n",
    "model16.compile(Adam(0.01), loss = \"binary_crossentropy\", metrics=[\"accuracy\"])"
   ]
  },
  {
   "cell_type": "code",
   "execution_count": 114,
   "metadata": {},
   "outputs": [
    {
     "name": "stdout",
     "output_type": "stream",
     "text": [
      "Epoch 1/10\n"
     ]
    },
    {
     "name": "stderr",
     "output_type": "stream",
     "text": [
      "C:\\Users\\amcfa\\AppData\\Local\\Temp\\ipykernel_17948\\289038352.py:4: UserWarning: `Model.fit_generator` is deprecated and will be removed in a future version. Please use `Model.fit`, which supports generators.\n",
      "  model_17 = model16.fit_generator(train_gen, steps_per_epoch=train_steps,\n"
     ]
    },
    {
     "name": "stdout",
     "output_type": "stream",
     "text": [
      "1000/1000 [==============================] - 64s 63ms/step - loss: 0.4681 - accuracy: 0.7870 - val_loss: 0.5407 - val_accuracy: 0.7334 - lr: 0.0100\n",
      "Epoch 2/10\n",
      "1000/1000 [==============================] - 63s 63ms/step - loss: 0.4011 - accuracy: 0.8209 - val_loss: 0.3910 - val_accuracy: 0.8288 - lr: 0.0100\n",
      "Epoch 3/10\n",
      "1000/1000 [==============================] - ETA: 0s - loss: 0.3867 - accuracy: 0.8311\n",
      "Epoch 3: ReduceLROnPlateau reducing learning rate to 0.0009999999776482583.\n",
      "1000/1000 [==============================] - 64s 64ms/step - loss: 0.3867 - accuracy: 0.8311 - val_loss: 0.4238 - val_accuracy: 0.7985 - lr: 0.0100\n",
      "Epoch 4/10\n",
      "1000/1000 [==============================] - 64s 64ms/step - loss: 0.3445 - accuracy: 0.8515 - val_loss: 0.3199 - val_accuracy: 0.8620 - lr: 1.0000e-03\n",
      "Epoch 5/10\n",
      "1000/1000 [==============================] - 64s 64ms/step - loss: 0.3304 - accuracy: 0.8584 - val_loss: 0.3117 - val_accuracy: 0.8680 - lr: 1.0000e-03\n",
      "Epoch 6/10\n",
      "1000/1000 [==============================] - ETA: 0s - loss: 0.3228 - accuracy: 0.8630\n",
      "Epoch 6: ReduceLROnPlateau reducing learning rate to 9.999999310821295e-05.\n",
      "1000/1000 [==============================] - 63s 63ms/step - loss: 0.3228 - accuracy: 0.8630 - val_loss: 0.3154 - val_accuracy: 0.8639 - lr: 1.0000e-03\n",
      "Epoch 7/10\n",
      "1000/1000 [==============================] - 64s 64ms/step - loss: 0.3136 - accuracy: 0.8661 - val_loss: 0.3053 - val_accuracy: 0.8710 - lr: 1.0000e-04\n",
      "Epoch 8/10\n",
      "1000/1000 [==============================] - ETA: 0s - loss: 0.3157 - accuracy: 0.8681\n",
      "Epoch 8: ReduceLROnPlateau reducing learning rate to 9.999999019782991e-06.\n",
      "1000/1000 [==============================] - 63s 63ms/step - loss: 0.3157 - accuracy: 0.8681 - val_loss: 0.3091 - val_accuracy: 0.8675 - lr: 1.0000e-04\n",
      "Epoch 9/10\n",
      "1000/1000 [==============================] - 63s 63ms/step - loss: 0.3105 - accuracy: 0.8686 - val_loss: 0.3003 - val_accuracy: 0.8709 - lr: 1.0000e-05\n",
      "Epoch 10/10\n",
      "1000/1000 [==============================] - ETA: 0s - loss: 0.3112 - accuracy: 0.8671\n",
      "Epoch 10: ReduceLROnPlateau reducing learning rate to 9.99999883788405e-07.\n",
      "1000/1000 [==============================] - 63s 63ms/step - loss: 0.3112 - accuracy: 0.8671 - val_loss: 0.3014 - val_accuracy: 0.8726 - lr: 1.0000e-05\n"
     ]
    }
   ],
   "source": [
    "from keras.callbacks import EarlyStopping, ReduceLROnPlateau\n",
    "earlystopper = EarlyStopping(monitor='val_loss', patience=2, verbose=1, restore_best_weights=True)\n",
    "reducel = ReduceLROnPlateau(monitor='val_loss', patience=1, verbose=1, factor=0.1)\n",
    "model_17 = model16.fit_generator(train_gen, steps_per_epoch=train_steps, \n",
    "                    validation_data=val_gen,\n",
    "                    validation_steps=val_steps,\n",
    "                    epochs=10,\n",
    "                   callbacks=[reducel, earlystopper])"
   ]
  },
  {
   "cell_type": "code",
   "execution_count": 123,
   "metadata": {},
   "outputs": [
    {
     "data": {
      "image/png": "[encoded data removed]",
      "text/plain": [
       "<Figure size 640x480 with 1 Axes>"
      ]
     },
     "metadata": {},
     "output_type": "display_data"
    }
   ],
   "source": [
    "plt.plot(model_17.history['val_loss'],'g')\n",
    "plt.plot(model_17.history['loss'],'c')\n",
    "plt.title('Loss per epoch')\n",
    "plt.xlabel('Epoch #')\n",
    "plt.ylabel('Range')\n",
    "plt.legend(['validation_loss', 'train loss'], loc='upper left')\n",
    "plt.show()"
   ]
  },
  {
   "cell_type": "code",
   "execution_count": 124,
   "metadata": {},
   "outputs": [
    {
     "data": {
      "image/png": "[encoded data removed]",
      "text/plain": [
       "<Figure size 640x480 with 1 Axes>"
      ]
     },
     "metadata": {},
     "output_type": "display_data"
    }
   ],
   "source": [
    "plt.plot(model_17.history['val_accuracy'],'g')\n",
    "plt.plot(model_17.history['accuracy'],'c')\n",
    "plt.title('Accuracy per Epoch')\n",
    "plt.xlabel('Epoch #')\n",
    "plt.ylabel('Range')\n",
    "plt.legend(['val_loss', 'val_accuracy'], loc='upper left')\n",
    "plt.show()"
   ]
  },
  {
   "cell_type": "markdown",
   "metadata": {},
   "source": [
    "## Patience increased"
   ]
  },
  {
   "cell_type": "code",
   "execution_count": 115,
   "metadata": {},
   "outputs": [],
   "source": [
    "kernel_size = (3,3)\n",
    "pool_size= (2,2)\n",
    "first_filter = 32\n",
    "second_filter = 64\n",
    "third_filter = 128\n",
    "\n",
    "dropout_conv = 0.1\n",
    "dropout_dense = 0.5\n",
    "\n",
    "model17 = Sequential()\n",
    "model17.add(Conv2D(first_filter, kernel_size, activation = 'relu', input_shape = (imagesize, imagesize, 3)))\n",
    "model17.add(MaxPool2D(pool_size = pool_size)) \n",
    "model17.add(BatchNormalization())\n",
    "model17.add(Activation(\"relu\"))\n",
    "model17.add(MaxPool2D(pool_size = pool_size))\n",
    "model17.add(Dropout(dropout_conv))\n",
    "\n",
    "model17.add(Conv2D(second_filter, kernel_size, use_bias=False))\n",
    "model17.add(MaxPool2D(pool_size = pool_size))\n",
    "model17.add(BatchNormalization())\n",
    "model17.add(Activation(\"relu\"))\n",
    "model17.add(Dropout(dropout_conv))\n",
    "\n",
    "model17.add(Conv2D(third_filter, kernel_size, use_bias=False))\n",
    "model17.add(MaxPool2D(pool_size = pool_size))\n",
    "model17.add(BatchNormalization())\n",
    "model17.add(Activation(\"relu\"))\n",
    "model17.add(Dropout(dropout_conv))\n",
    "\n",
    "#model.add(GlobalAveragePooling2D())\n",
    "model17.add(Flatten())\n",
    "model17.add(Dense(256, use_bias=False))\n",
    "model17.add(BatchNormalization())\n",
    "model17.add(Activation(\"relu\"))\n",
    "model17.add(Dropout(dropout_dense))\n",
    "model17.add(Dense(1, activation = \"sigmoid\"))\n",
    "\n",
    "# Compile the model\n",
    "model17.compile(Adam(0.01), loss = \"binary_crossentropy\", metrics=[\"accuracy\"])"
   ]
  },
  {
   "cell_type": "code",
   "execution_count": 116,
   "metadata": {},
   "outputs": [
    {
     "name": "stdout",
     "output_type": "stream",
     "text": [
      "Epoch 1/10\n"
     ]
    },
    {
     "name": "stderr",
     "output_type": "stream",
     "text": [
      "C:\\Users\\amcfa\\AppData\\Local\\Temp\\ipykernel_17948\\2051343527.py:4: UserWarning: `Model.fit_generator` is deprecated and will be removed in a future version. Please use `Model.fit`, which supports generators.\n",
      "  model_18 = model17.fit_generator(train_gen, steps_per_epoch=train_steps,\n"
     ]
    },
    {
     "name": "stdout",
     "output_type": "stream",
     "text": [
      "1000/1000 [==============================] - 65s 64ms/step - loss: 0.4734 - accuracy: 0.7857 - val_loss: 0.5408 - val_accuracy: 0.7782 - lr: 0.0100\n",
      "Epoch 2/10\n",
      "1000/1000 [==============================] - 64s 64ms/step - loss: 0.3990 - accuracy: 0.8212 - val_loss: 1.0758 - val_accuracy: 0.6326 - lr: 0.0100\n",
      "Epoch 3/10\n",
      "1000/1000 [==============================] - 64s 64ms/step - loss: 0.3823 - accuracy: 0.8330 - val_loss: 0.4927 - val_accuracy: 0.7837 - lr: 0.0100\n",
      "Epoch 4/10\n",
      "1000/1000 [==============================] - 63s 63ms/step - loss: 0.3675 - accuracy: 0.8430 - val_loss: 0.3766 - val_accuracy: 0.8278 - lr: 0.0100\n",
      "Epoch 5/10\n",
      "1000/1000 [==============================] - 64s 64ms/step - loss: 0.3575 - accuracy: 0.8483 - val_loss: 0.3986 - val_accuracy: 0.8253 - lr: 0.0100\n",
      "Epoch 6/10\n",
      "1000/1000 [==============================] - 63s 63ms/step - loss: 0.3376 - accuracy: 0.8572 - val_loss: 0.3235 - val_accuracy: 0.8566 - lr: 0.0100\n",
      "Epoch 7/10\n",
      "1000/1000 [==============================] - 65s 65ms/step - loss: 0.3278 - accuracy: 0.8634 - val_loss: 0.4244 - val_accuracy: 0.8305 - lr: 0.0100\n",
      "Epoch 8/10\n",
      "1000/1000 [==============================] - 64s 64ms/step - loss: 0.3175 - accuracy: 0.8688 - val_loss: 0.3161 - val_accuracy: 0.8679 - lr: 0.0100\n",
      "Epoch 9/10\n",
      "1000/1000 [==============================] - 65s 64ms/step - loss: 0.3094 - accuracy: 0.8720 - val_loss: 0.3779 - val_accuracy: 0.8251 - lr: 0.0100\n",
      "Epoch 10/10\n",
      "1000/1000 [==============================] - 64s 64ms/step - loss: 0.3016 - accuracy: 0.8741 - val_loss: 0.3124 - val_accuracy: 0.8639 - lr: 0.0100\n"
     ]
    }
   ],
   "source": [
    "from keras.callbacks import EarlyStopping, ReduceLROnPlateau\n",
    "earlystopper = EarlyStopping(monitor='val_loss', patience=2, verbose=1, restore_best_weights=True)\n",
    "reducel = ReduceLROnPlateau(monitor='val_loss', patience=2, verbose=1, factor=0.1)\n",
    "model_18 = model17.fit_generator(train_gen, steps_per_epoch=train_steps, \n",
    "                    validation_data=val_gen,\n",
    "                    validation_steps=val_steps,\n",
    "                    epochs=10,\n",
    "                   callbacks=[reducel, earlystopper])"
   ]
  },
  {
   "cell_type": "code",
   "execution_count": 129,
   "metadata": {},
   "outputs": [],
   "source": [
    "kernel_size = (3,3)\n",
    "pool_size= (2,2)\n",
    "first_filter = 32\n",
    "second_filter = 64\n",
    "third_filter = 128\n",
    "\n",
    "dropout_conv = 0.1\n",
    "dropout_dense = 0.5\n",
    "\n",
    "model19 = Sequential()\n",
    "model19.add(Conv2D(first_filter, kernel_size, activation = 'relu', input_shape = (imagesize, imagesize, 3)))\n",
    "model19.add(MaxPool2D(pool_size = pool_size)) \n",
    "model19.add(BatchNormalization())\n",
    "model19.add(Activation(\"relu\"))\n",
    "model19.add(MaxPool2D(pool_size = pool_size))\n",
    "model19.add(Dropout(dropout_conv))\n",
    "\n",
    "model19.add(Conv2D(second_filter, kernel_size, use_bias=False))\n",
    "model19.add(MaxPool2D(pool_size = pool_size))\n",
    "model19.add(BatchNormalization())\n",
    "model19.add(Activation(\"relu\"))\n",
    "model19.add(Dropout(dropout_conv))\n",
    "\n",
    "model19.add(Conv2D(third_filter, kernel_size, use_bias=False))\n",
    "model19.add(MaxPool2D(pool_size = pool_size))\n",
    "model19.add(BatchNormalization())\n",
    "model19.add(Activation(\"relu\"))\n",
    "model19.add(Dropout(dropout_conv))\n",
    "\n",
    "model19.add(Flatten())\n",
    "model19.add(Dense(256, use_bias=False))\n",
    "model19.add(BatchNormalization())\n",
    "model19.add(Activation(\"relu\"))\n",
    "model19.add(Dropout(dropout_dense))\n",
    "model19.add(Dense(1, activation = \"sigmoid\"))\n",
    "\n",
    "\n",
    "model19.compile(Adam(0.01), loss = \"binary_crossentropy\", metrics=[\"accuracy\"])"
   ]
  },
  {
   "cell_type": "code",
   "execution_count": null,
   "metadata": {},
   "outputs": [],
   "source": [
    "from keras.callbacks import EarlyStopping, ReduceLROnPlateau\n",
    "earlystopper = EarlyStopping(monitor='val_loss', patience=3, verbose=1, restore_best_weights=True)\n",
    "reducel = ReduceLROnPlateau(monitor='val_loss', patience=2, verbose=1, factor=0.1)\n",
    "model_20 = model19.fit_generator(train_gen, steps_per_epoch=train_steps, \n",
    "                    validation_data=val_gen,\n",
    "                    validation_steps=val_steps,\n",
    "                    epochs=20,\n",
    "                   callbacks=[reducel, earlystopper])"
   ]
  },
  {
   "cell_type": "markdown",
   "metadata": {},
   "source": [
    "## Small modifications for better predictions on test data"
   ]
  },
  {
   "cell_type": "code",
   "execution_count": 264,
   "metadata": {},
   "outputs": [],
   "source": [
    "kernel_size = (3,3)\n",
    "pool_size= (2,2)\n",
    "first_filter = 32\n",
    "second_filter = 64\n",
    "third_filter = 128\n",
    "\n",
    "dropout_conv = 0.2\n",
    "dropout_dense = 0.5\n",
    "\n",
    "model20 = Sequential()\n",
    "model20.add(Conv2D(first_filter, kernel_size, activation = 'relu', input_shape = (imagesize, imagesize, 3)))\n",
    "model20.add(MaxPool2D(pool_size = pool_size)) \n",
    "model20.add(BatchNormalization())\n",
    "model20.add(Activation(\"relu\"))\n",
    "model20.add(MaxPool2D(pool_size = pool_size))\n",
    "model20.add(Dropout(dropout_conv))\n",
    "\n",
    "model20.add(Conv2D(second_filter, kernel_size, use_bias=False))\n",
    "model20.add(MaxPool2D(pool_size = pool_size))\n",
    "model20.add(BatchNormalization())\n",
    "model20.add(Activation(\"relu\"))\n",
    "model20.add(Dropout(dropout_conv))\n",
    "\n",
    "model20.add(Conv2D(third_filter, kernel_size, use_bias=False))\n",
    "model20.add(MaxPool2D(pool_size = pool_size))\n",
    "model20.add(BatchNormalization())\n",
    "model20.add(Activation(\"relu\"))\n",
    "model20.add(Dropout(dropout_conv))\n",
    "\n",
    "model20.add(Flatten())\n",
    "model20.add(Dense(256, use_bias=False))\n",
    "model20.add(BatchNormalization())\n",
    "model20.add(Activation(\"relu\"))\n",
    "model20.add(Dropout(dropout_dense))\n",
    "model20.add(Dense(1, activation = \"sigmoid\"))\n",
    "\n",
    "\n",
    "model20.compile(Adam(0.01), loss = \"binary_crossentropy\", metrics=[\"accuracy\"])"
   ]
  },
  {
   "cell_type": "code",
   "execution_count": 265,
   "metadata": {},
   "outputs": [
    {
     "name": "stdout",
     "output_type": "stream",
     "text": [
      "Epoch 1/11\n"
     ]
    },
    {
     "name": "stderr",
     "output_type": "stream",
     "text": [
      "C:\\Users\\amcfa\\AppData\\Local\\Temp\\ipykernel_17948\\2141937084.py:4: UserWarning: `Model.fit_generator` is deprecated and will be removed in a future version. Please use `Model.fit`, which supports generators.\n",
      "  model_21 = model20.fit_generator(train_gen, steps_per_epoch=train_steps,\n"
     ]
    },
    {
     "name": "stdout",
     "output_type": "stream",
     "text": [
      "1000/1000 [==============================] - 173s 172ms/step - loss: 0.4781 - accuracy: 0.7834 - val_loss: 0.4229 - val_accuracy: 0.8160 - lr: 0.0100\n",
      "Epoch 2/11\n",
      "1000/1000 [==============================] - 83s 83ms/step - loss: 0.4084 - accuracy: 0.8183 - val_loss: 0.4195 - val_accuracy: 0.8123 - lr: 0.0100\n",
      "Epoch 3/11\n",
      "1000/1000 [==============================] - 95s 95ms/step - loss: 0.3886 - accuracy: 0.8300 - val_loss: 0.4068 - val_accuracy: 0.8158 - lr: 0.0100\n",
      "Epoch 4/11\n",
      "1000/1000 [==============================] - 82s 82ms/step - loss: 0.3665 - accuracy: 0.8429 - val_loss: 0.3233 - val_accuracy: 0.8599 - lr: 0.0100\n",
      "Epoch 5/11\n",
      "1000/1000 [==============================] - 97s 97ms/step - loss: 0.3616 - accuracy: 0.8438 - val_loss: 0.3625 - val_accuracy: 0.8478 - lr: 0.0100\n",
      "Epoch 6/11\n",
      "1000/1000 [==============================] - 84s 84ms/step - loss: 0.3484 - accuracy: 0.8526 - val_loss: 0.2912 - val_accuracy: 0.8751 - lr: 0.0100\n",
      "Epoch 7/11\n",
      "1000/1000 [==============================] - 95s 95ms/step - loss: 0.3399 - accuracy: 0.8578 - val_loss: 0.3070 - val_accuracy: 0.8694 - lr: 0.0100\n",
      "Epoch 8/11\n",
      "1000/1000 [==============================] - ETA: 0s - loss: 0.3331 - accuracy: 0.8591\n",
      "Epoch 8: ReduceLROnPlateau reducing learning rate to 0.0009999999776482583.\n",
      "1000/1000 [==============================] - 83s 83ms/step - loss: 0.3331 - accuracy: 0.8591 - val_loss: 0.3973 - val_accuracy: 0.8115 - lr: 0.0100\n",
      "Epoch 9/11\n",
      "1000/1000 [==============================] - ETA: 0s - loss: 0.3036 - accuracy: 0.8758Restoring model weights from the end of the best epoch: 6.\n",
      "1000/1000 [==============================] - 95s 95ms/step - loss: 0.3036 - accuracy: 0.8758 - val_loss: 0.3353 - val_accuracy: 0.8486 - lr: 1.0000e-03\n",
      "Epoch 9: early stopping\n"
     ]
    }
   ],
   "source": [
    "from keras.callbacks import EarlyStopping, ReduceLROnPlateau\n",
    "earlystopper = EarlyStopping(monitor='val_loss', patience=3, verbose=1, restore_best_weights=True)\n",
    "reducel = ReduceLROnPlateau(monitor='val_loss', patience=2, verbose=1, factor=0.1)\n",
    "model_21 = model20.fit_generator(train_gen, steps_per_epoch=train_steps, \n",
    "                    validation_data=val_gen,\n",
    "                    validation_steps=val_steps,\n",
    "                    epochs=11,\n",
    "                   callbacks=[reducel, earlystopper])"
   ]
  },
  {
   "cell_type": "markdown",
   "metadata": {},
   "source": [
    "Model finally seems acceptable. \n",
    "Performing pretty decently. "
   ]
  },
  {
   "cell_type": "markdown",
   "metadata": {},
   "source": [
    "Plots of all of my resulting accuracy scores."
   ]
  },
  {
   "cell_type": "code",
   "execution_count": 266,
   "metadata": {},
   "outputs": [],
   "source": [
    "max5 = max(model_5.history['accuracy'])\n",
    "max6 = max(model_6.history['accuracy'])\n",
    "max7 = max(model_7.history['accuracy'])\n",
    "max8 = max(model_8.history['accuracy'])\n",
    "max9 = max(model_9.history['accuracy'])\n",
    "max10 = max(model_10.history['accuracy'])\n",
    "max11 = max(model_11.history['accuracy'])\n",
    "max14 = max(model_14.history['accuracy'])\n",
    "max15 = max(model_15.history['accuracy'])\n",
    "max16 = max(model_16.history['accuracy'])\n",
    "max17 = max(model_17.history['accuracy'])\n",
    "max18 = max(model_18.history['accuracy'])\n",
    "max19 = max(model_19.history['accuracy'])\n",
    "max20 = max(model_20.history['accuracy'])\n",
    "max21 = (model_20.history['accuracy'])"
   ]
  },
  {
   "cell_type": "code",
   "execution_count": 187,
   "metadata": {},
   "outputs": [],
   "source": [
    "maxess = [max5,max6,max7,max8,max9,max10,max11,max14,max15,max16,max17,max18,max19,max20]"
   ]
  },
  {
   "cell_type": "code",
   "execution_count": 195,
   "metadata": {},
   "outputs": [
    {
     "data": {
      "image/png": "[encoded data removed]",
      "text/plain": [
       "<Figure size 640x480 with 1 Axes>"
      ]
     },
     "metadata": {},
     "output_type": "display_data"
    }
   ],
   "source": [
    "plt.bar(range(len(maxess)),maxess)\n",
    "plt.title('Accuracy per Model')\n",
    "plt.xlabel('Model #')\n",
    "plt.ylabel('Accuracy Score')\n",
    "plt.show()"
   ]
  },
  {
   "cell_type": "code",
   "execution_count": 198,
   "metadata": {},
   "outputs": [],
   "source": [
    "max5 = max(model_5.history['loss'])\n",
    "max6 = max(model_6.history['loss'])\n",
    "max7 = max(model_7.history['loss'])\n",
    "max8 = max(model_8.history['loss'])\n",
    "max9 = max(model_9.history['loss'])\n",
    "max10 = max(model_10.history['loss'])\n",
    "max11 = max(model_11.history['loss'])\n",
    "max14 = max(model_14.history['loss'])\n",
    "max15 = max(model_15.history['loss'])\n",
    "max16 = max(model_16.history['loss'])\n",
    "max17 = max(model_17.history['loss'])\n",
    "max18 = max(model_18.history['loss'])\n",
    "max19 = max(model_19.history['loss'])\n",
    "max20 = max(model_20.history['loss'])\n",
    "maxess = [max5,max6,max7,max8,max9,max10,max11,max14,max15,max16,max17,max18,max19,max20]"
   ]
  },
  {
   "cell_type": "code",
   "execution_count": 199,
   "metadata": {},
   "outputs": [
    {
     "data": {
      "image/png": "[encoded data removed]",
      "text/plain": [
       "<Figure size 640x480 with 1 Axes>"
      ]
     },
     "metadata": {},
     "output_type": "display_data"
    }
   ],
   "source": [
    "plt.bar(range(len(maxess)),maxess)\n",
    "plt.title('Loss per model')\n",
    "plt.xlabel('Model #')\n",
    "plt.ylabel('Accuracy Score')\n",
    "plt.show()"
   ]
  },
  {
   "cell_type": "code",
   "execution_count": 206,
   "metadata": {},
   "outputs": [
    {
     "data": {
      "image/png": "[encoded data removed]",
      "text/plain": [
       "<Figure size 640x480 with 1 Axes>"
      ]
     },
     "metadata": {},
     "output_type": "display_data"
    }
   ],
   "source": [
    "max5 = max(model_5.history['val_loss'])\n",
    "max6 = max(model_6.history['val_loss'])\n",
    "max7 = max(model_7.history['val_loss'])\n",
    "max8 = max(model_8.history['val_loss'])\n",
    "max9 = max(model_9.history['val_loss'])\n",
    "max10 = max(model_10.history['val_loss'])\n",
    "max11 = max(model_11.history['val_loss'])\n",
    "max14 = max(model_14.history['val_loss'])\n",
    "max15 = max(model_15.history['val_loss'])\n",
    "max16 = max(model_16.history['val_loss'])\n",
    "max17 = max(model_17.history['val_loss'])\n",
    "max18 = max(model_18.history['val_loss'])\n",
    "max19 = max(model_19.history['val_loss'])\n",
    "max20 = max(model_20.history['val_loss'])\n",
    "maxess = [max5,max6,max7,max8,max9,max10,max11,max14,max15,max16,max17,max18,max19,max20]\n",
    "plt.bar(range(len(maxess)),maxess)\n",
    "plt.title('Validation loss per model')\n",
    "plt.xlabel('Model #')\n",
    "plt.ylabel('Accuracy Score')\n",
    "plt.show()"
   ]
  },
  {
   "cell_type": "code",
   "execution_count": 207,
   "metadata": {},
   "outputs": [
    {
     "data": {
      "image/png": "[encoded data removed]",
      "text/plain": [
       "<Figure size 640x480 with 1 Axes>"
      ]
     },
     "metadata": {},
     "output_type": "display_data"
    }
   ],
   "source": [
    "max5 = max(model_5.history['val_accuracy'])\n",
    "max6 = max(model_6.history['val_accuracy'])\n",
    "max7 = max(model_7.history['val_accuracy'])\n",
    "max8 = max(model_8.history['val_accuracy'])\n",
    "max9 = max(model_9.history['val_accuracy'])\n",
    "max10 = max(model_10.history['val_accuracy'])\n",
    "max11 = max(model_11.history['val_accuracy'])\n",
    "max14 = max(model_14.history['val_accuracy'])\n",
    "max15 = max(model_15.history['val_accuracy'])\n",
    "max16 = max(model_16.history['val_accuracy'])\n",
    "max17 = max(model_17.history['val_accuracy'])\n",
    "max18 = max(model_18.history['val_accuracy'])\n",
    "max19 = max(model_19.history['val_accuracy'])\n",
    "max20 = max(model_20.history['val_accuracy'])\n",
    "maxess = [max5,max6,max7,max8,max9,max10,max11,max14,max15,max16,max17,max18,max19,max20]\n",
    "plt.bar(range(len(maxess)),maxess)\n",
    "plt.title('Validation accuracy per model')\n",
    "plt.xlabel('Model #')\n",
    "plt.ylabel('Accuracy Score')\n",
    "plt.show()"
   ]
  },
  {
   "cell_type": "code",
   "execution_count": 271,
   "metadata": {},
   "outputs": [
    {
     "data": {
      "text/plain": [
       "Text(0.5, 0, 'Epoch')"
      ]
     },
     "execution_count": 271,
     "metadata": {},
     "output_type": "execute_result"
    },
    {
     "data": {
      "image/png": "[encoded data removed]",
      "text/plain": [
       "<Figure size 640x480 with 1 Axes>"
      ]
     },
     "metadata": {},
     "output_type": "display_data"
    }
   ],
   "source": [
    "plt.plot(model_20.history['accuracy'])\n",
    "plt.plot(model_21.history['accuracy'])\n",
    "plt.title(\"Maybe it is overfit\")\n",
    "plt.ylabel(\"accuracy\")\n",
    "plt.xlabel(\"Epoch\")"
   ]
  },
  {
   "cell_type": "code",
   "execution_count": 160,
   "metadata": {},
   "outputs": [
    {
     "name": "stdout",
     "output_type": "stream",
     "text": [
      "dict_keys(['loss', 'accuracy', 'val_loss', 'val_accuracy', 'lr'])\n"
     ]
    },
    {
     "data": {
      "text/plain": [
       "[<matplotlib.lines.Line2D at 0x1e6a94e0c10>]"
      ]
     },
     "execution_count": 160,
     "metadata": {},
     "output_type": "execute_result"
    },
    {
     "data": {
      "image/png": "[encoded data removed]",
      "text/plain": [
       "<Figure size 640x480 with 1 Axes>"
      ]
     },
     "metadata": {},
     "output_type": "display_data"
    }
   ],
   "source": [
    "print(model_20.history.keys())\n",
    "plt.plot(max(model_20.history['accuracy']))\n",
    "plt.plot(model_19.history['accuracy'])\n",
    "plt.plot(model_18.history['accuracy'])\n",
    "plt.plot(model_17.history['accuracy'])\n",
    "plt.plot(model_16.history['accuracy'])\n",
    "plt.plot(model_15.history['accuracy'])\n",
    "max20 = (model_20.history['accuracy'])"
   ]
  },
  {
   "cell_type": "code",
   "execution_count": 155,
   "metadata": {},
   "outputs": [
    {
     "name": "stdout",
     "output_type": "stream",
     "text": [
      "  43/8000 [..............................] - ETA: 19s"
     ]
    },
    {
     "name": "stderr",
     "output_type": "stream",
     "text": [
      "C:\\Users\\amcfa\\AppData\\Local\\Temp\\ipykernel_17948\\3316063053.py:5: UserWarning: `Model.predict_generator` is deprecated and will be removed in a future version. Please use `Model.predict`, which supports generators.\n",
      "  y_pred = model19.predict_generator(test_gen, steps=len(df_val), verbose=1)\n"
     ]
    },
    {
     "name": "stdout",
     "output_type": "stream",
     "text": [
      "8000/8000 [==============================] - 18s 2ms/step\n"
     ]
    },
    {
     "data": {
      "text/plain": [
       "0.95967575"
      ]
     },
     "execution_count": 155,
     "metadata": {},
     "output_type": "execute_result"
    }
   ],
   "source": [
    "from sklearn.metrics import roc_curve, auc, roc_auc_score\n",
    "import matplotlib.pyplot as plt\n",
    "\n",
    "# make a prediction\n",
    "y_pred = model19.predict_generator(test_gen, steps=len(df_val), verbose=1)\n",
    "fpr_keras, tpr_keras, thresholds_keras = roc_curve(test_gen.classes, y_pred_keras)\n",
    "auc_keras = auc(fpr_keras, tpr_keras)\n",
    "auc_keras"
   ]
  },
  {
   "cell_type": "code",
   "execution_count": 147,
   "metadata": {},
   "outputs": [
    {
     "data": {
      "image/png": "[encoded data removed]",
      "text/plain": [
       "<Figure size 640x480 with 1 Axes>"
      ]
     },
     "metadata": {},
     "output_type": "display_data"
    }
   ],
   "source": [
    "## ROC Curve\n",
    "plt.figure(1)\n",
    "plt.plot([0, 1], [0, 1], 'k--')\n",
    "plt.plot(fpr_keras, tpr_keras, label='area = {:.3f}'.format(auc_keras))\n",
    "plt.xlabel('False positive rate')\n",
    "plt.ylabel('True positive rate')\n",
    "plt.title('ROC curve')\n",
    "plt.legend(loc='best')\n",
    "plt.show()"
   ]
  },
  {
   "cell_type": "code",
   "execution_count": 151,
   "metadata": {},
   "outputs": [],
   "source": [
    "from skimage.io import imread\n",
    "# Load test data and make a prediction"
   ]
  },
  {
   "cell_type": "code",
   "execution_count": 273,
   "metadata": {},
   "outputs": [
    {
     "name": "stdout",
     "output_type": "stream",
     "text": [
      "Indexes: 0 - 5000\n",
      "157/157 [==============================] - 2s 15ms/step\n",
      "Indexes: 5000 - 10000\n",
      "157/157 [==============================] - 2s 14ms/step\n",
      "Indexes: 10000 - 15000\n",
      "157/157 [==============================] - 2s 15ms/step\n",
      "Indexes: 15000 - 20000\n",
      "157/157 [==============================] - 2s 15ms/step\n",
      "Indexes: 20000 - 25000\n",
      "157/157 [==============================] - 2s 15ms/step\n",
      "Indexes: 25000 - 30000\n",
      "157/157 [==============================] - 2s 14ms/step\n",
      "Indexes: 30000 - 35000\n",
      "157/157 [==============================] - 2s 15ms/step\n",
      "Indexes: 35000 - 40000\n",
      "157/157 [==============================] - 2s 15ms/step\n",
      "Indexes: 40000 - 45000\n",
      "157/157 [==============================] - 3s 16ms/step\n",
      "Indexes: 45000 - 50000\n",
      "157/157 [==============================] - 3s 16ms/step\n",
      "Indexes: 50000 - 55000\n",
      "157/157 [==============================] - 3s 17ms/step\n",
      "Indexes: 55000 - 60000\n",
      "77/77 [==============================] - 1s 16ms/step\n"
     ]
    },
    {
     "data": {
      "text/html": [
       "<div>\n",
       "<style scoped>\n",
       "    .dataframe tbody tr th:only-of-type {\n",
       "        vertical-align: middle;\n",
       "    }\n",
       "\n",
       "    .dataframe tbody tr th {\n",
       "        vertical-align: top;\n",
       "    }\n",
       "\n",
       "    .dataframe thead th {\n",
       "        text-align: right;\n",
       "    }\n",
       "</style>\n",
       "<table border=\"1\" class=\"dataframe\">\n",
       "  <thead>\n",
       "    <tr style=\"text-align: right;\">\n",
       "      <th></th>\n",
       "      <th>id</th>\n",
       "      <th>label</th>\n",
       "    </tr>\n",
       "  </thead>\n",
       "  <tbody>\n",
       "    <tr>\n",
       "      <th>0</th>\n",
       "      <td>00006537328c33e284c973d7b39d340809f7271b</td>\n",
       "      <td>0.873092</td>\n",
       "    </tr>\n",
       "    <tr>\n",
       "      <th>1</th>\n",
       "      <td>0000ec92553fda4ce39889f9226ace43cae3364e</td>\n",
       "      <td>0.774387</td>\n",
       "    </tr>\n",
       "    <tr>\n",
       "      <th>2</th>\n",
       "      <td>00024a6dee61f12f7856b0fc6be20bc7a48ba3d2</td>\n",
       "      <td>0.802865</td>\n",
       "    </tr>\n",
       "    <tr>\n",
       "      <th>3</th>\n",
       "      <td>000253dfaa0be9d0d100283b22284ab2f6b643f6</td>\n",
       "      <td>0.001870</td>\n",
       "    </tr>\n",
       "    <tr>\n",
       "      <th>4</th>\n",
       "      <td>000270442cc15af719583a8172c87cd2bd9c7746</td>\n",
       "      <td>0.011828</td>\n",
       "    </tr>\n",
       "  </tbody>\n",
       "</table>\n",
       "</div>"
      ],
      "text/plain": [
       "                                         id     label\n",
       "0  00006537328c33e284c973d7b39d340809f7271b  0.873092\n",
       "1  0000ec92553fda4ce39889f9226ace43cae3364e  0.774387\n",
       "2  00024a6dee61f12f7856b0fc6be20bc7a48ba3d2  0.802865\n",
       "3  000253dfaa0be9d0d100283b22284ab2f6b643f6  0.001870\n",
       "4  000270442cc15af719583a8172c87cd2bd9c7746  0.011828"
      ]
     },
     "execution_count": 273,
     "metadata": {},
     "output_type": "execute_result"
    }
   ],
   "source": [
    "import cv2 as cv\n",
    "base_test_dir = '../input/test/'\n",
    "test_files = glob(os.path.join(base_test_dir,'*.tif'))\n",
    "submission = pd.DataFrame()\n",
    "file_batch = 5000\n",
    "max_idx = len(test_files)\n",
    "for idx in range(0, max_idx, file_batch):\n",
    "    print(\"Indexes: %i - %i\"%(idx, idx+file_batch))\n",
    "    test_df = pd.DataFrame({'path': test_files[idx:idx+file_batch]})\n",
    "    test_df['id'] = test_df.path.map(lambda x: x.split('\\\\')[1].split(\".\")[0]) \n",
    "    test_df['image'] = test_df['path'].map(imread)\n",
    "    K_test = np.stack(test_df[\"image\"].values)\n",
    "    K_test = (K_test - K_test.mean()) / K_test.std()\n",
    "    predictions = model20.predict(K_test)\n",
    "    test_df['label'] = predictions\n",
    "    submission = pd.concat([submission, test_df[[\"id\", \"label\"]]])\n",
    "submission.head()"
   ]
  },
  {
   "cell_type": "code",
   "execution_count": 274,
   "metadata": {},
   "outputs": [],
   "source": [
    "shutil.rmtree(train_path)\n",
    "shutil.rmtree(valid_path)\n",
    "submission.to_csv(\"submission.csv\", index = False, header = True)"
   ]
  },
  {
   "cell_type": "code",
   "execution_count": null,
   "metadata": {},
   "outputs": [],
   "source": [
    "history[0]"
   ]
  },
  {
   "cell_type": "code",
   "execution_count": null,
   "metadata": {},
   "outputs": [],
   "source": []
  }
 ],
 "metadata": {
  "kernelspec": {
   "display_name": "tf",
   "language": "python",
   "name": "python3"
  },
  "language_info": {
   "codemirror_mode": {
    "name": "ipython",
    "version": 3
   },
   "file_extension": ".py",
   "mimetype": "text/x-python",
   "name": "python",
   "nbconvert_exporter": "python",
   "pygments_lexer": "ipython3",
   "version": "3.11.4"
  },
  "orig_nbformat": 4
 },
 "nbformat": 4,
 "nbformat_minor": 2
}
